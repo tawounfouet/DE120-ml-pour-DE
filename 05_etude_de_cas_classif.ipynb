{
 "cells": [
  {
   "cell_type": "markdown",
   "metadata": {
    "deletable": false,
    "editable": false,
    "hide_input": true,
    "run_control": {
     "frozen": true
    }
   },
   "source": [
    "\n",
    "<img src=\"https://datascientest.fr/train/assets/logo_datascientest.png\" style=\"height:150px\"> \n",
    "<hr style=\"border-width:2px;border-color:#75DFC1\">\n",
    "<h1 style = \"text-align:center\" > Machine Learning pour les Data Engineers</h1> \n",
    "<h2 style = \"text-align:center\"> Etude de cas : problème de classification </h2> \n",
    "<hr style=\"border-width:2px;border-color:#75DFC1\">\n",
    "\n",
    "> Dans cet exercice nous allons résoudre une problématique métier à l'aide d'une classification. <br> Les packages utilisés seront **pandas**, **scikit-learn** et ses sous-packages, notamment **tree** et **model_selection**.\n",
    ">\n",
    "> <div class=\"alert alert-success\">\n",
    "<i class=\"fa fa-question-circle\"></i> &emsp; \n",
    "Dans cet exercice, nous nous mettons dans la peau d’un Data Scientist pour réaliser un projet en passant par les étapes suivantes : l’exploration, le prétraitement de la base de données, la modélisation et enfin la gestion des biais ayant pu être créés. \n",
    "</div>\n",
    "\n",
    "\n",
    "\n",
    "<h3> 1. Présentation du problème </h3>\n",
    "\n",
    ">Dans ce notebook, nous travaillons dans une entreprise qui souhaite prédire **la résiliation des contrats de leurs clients** en fonction de certaines données. Nous sommes donc dans un cas de classification **binaire** (résiliation ou non résiliation). A noter qu'il exitse également des problèmes de classification dit **multi-classes**, c'est-à dire lorsque la variable cible prend plus de deux modalités.\n",
    ">\n",
    ">Cette analyse est importante pour une entreprise car elle permet de cibler les clients susceptibles de départ, en leur proposant de nouvelles offres spécialisées de manière à les fidéliser et éviter un départ. La base de données que nous utiliserons s'appelle `churn.csv`. \n",
    ">\n",
    ">Voici le descriptif des données :\n",
    ">\n",
    ">\n",
    ">|  <p class=\"text-center\">Nom de la colonne</p> | <p class=\"text-center\">Description</p>|\n",
    ">|:---:|:---:|\n",
    ">|   <p class=\"text-center\">customerID</p> | <p class=\"text-center\">Identifiant du client</p> |\n",
    ">|  <p class=\"text-center\">gender</p> | <p class=\"text-center\">Sexe du client</p>   |\n",
    ">|  <p class=\"text-center\">SeniorCitizen | <p class=\"text-center\">Client agé</p>  |\n",
    ">|  <p class=\"text-center\">Partner  |  <p class=\"text-center\">Si le client a un partenaire ou non</p>  |\n",
    ">|  <p class=\"text-center\">Dependents</p> |  <p class=\"text-center\">Si le client a des personnes à charge ou non</p> |\n",
    ">|  <p class=\"text-center\">tenure</p> |  <p class=\"text-center\">Nombre de mois durant lesquels le client est resté avec l'entreprise</p>  |\n",
    ">|  <p class=\"text-center\">PhoneService</p> |  <p class=\"text-center\"> Si le client a un service téléphonique ou non</p> |\n",
    ">|  <p class=\"text-center\">PaperlessBilling</p> |  <p class=\"text-center\">Si le client a une facturation internet </p> |\n",
    ">| <p class=\"text-center\">MonthlyCharges</p> | <p class=\"text-center\">Montant des factures moyennes</p>  |\n",
    ">| <p class=\"text-center\">TotalCharges</p> | <p class=\"text-center\">Montant total des factures </p>  |\n",
    ">| <p class=\"text-center\">Churn</p> | <p class=\"text-center\">Variable cible : est-ce que la personne a résilié son abonnement?  \n",
    "\n",
    "<h3> 2. Préparation des données </h3>\n",
    "\n",
    "\n",
    "* **(a)** Exécuter la cellule suivante pour importer les packages nécessaires.\n",
    "\n"
   ]
  },
  {
   "cell_type": "code",
   "execution_count": 1,
   "metadata": {
    "deletable": false,
    "editable": false
   },
   "outputs": [],
   "source": [
    "import pandas as pd\n",
    "import numpy as np\n",
    "import warnings\n",
    "warnings.filterwarnings('ignore')\n",
    "from sklearn.model_selection import train_test_split\n",
    "from sklearn.preprocessing import StandardScaler\n",
    "from sklearn.preprocessing import LabelEncoder\n",
    "from sklearn.preprocessing import OneHotEncoder\n",
    "from sklearn.metrics import f1_score\n",
    "from imblearn.over_sampling import RandomOverSampler\n",
    "from sklearn.compose import ColumnTransformer\n",
    "from sklearn.pipeline import Pipeline\n",
    "from sklearn.impute import SimpleImputer"
   ]
  },
  {
   "cell_type": "markdown",
   "metadata": {
    "deletable": false,
    "editable": false,
    "run_control": {
     "frozen": true
    }
   },
   "source": [
    "\n",
    "* **(b)** Lire le fichier `'churn.csv'` dans un `DataFrame` et en afficher les premières lignes.\n",
    "\n",
    "\n"
   ]
  },
  {
   "cell_type": "code",
   "execution_count": 2,
   "metadata": {},
   "outputs": [
    {
     "data": {
      "text/html": [
       "<div>\n",
       "<style scoped>\n",
       "    .dataframe tbody tr th:only-of-type {\n",
       "        vertical-align: middle;\n",
       "    }\n",
       "\n",
       "    .dataframe tbody tr th {\n",
       "        vertical-align: top;\n",
       "    }\n",
       "\n",
       "    .dataframe thead th {\n",
       "        text-align: right;\n",
       "    }\n",
       "</style>\n",
       "<table border=\"1\" class=\"dataframe\">\n",
       "  <thead>\n",
       "    <tr style=\"text-align: right;\">\n",
       "      <th></th>\n",
       "      <th>customerID</th>\n",
       "      <th>gender</th>\n",
       "      <th>SeniorCitizen</th>\n",
       "      <th>Partner</th>\n",
       "      <th>Dependents</th>\n",
       "      <th>PhoneService</th>\n",
       "      <th>PaperlessBilling</th>\n",
       "      <th>tenure</th>\n",
       "      <th>MonthlyCharges</th>\n",
       "      <th>TotalCharges</th>\n",
       "      <th>Churn</th>\n",
       "    </tr>\n",
       "  </thead>\n",
       "  <tbody>\n",
       "    <tr>\n",
       "      <th>0</th>\n",
       "      <td>7010-BRBUU</td>\n",
       "      <td>Male</td>\n",
       "      <td>0</td>\n",
       "      <td>Yes</td>\n",
       "      <td>Yes</td>\n",
       "      <td>Yes</td>\n",
       "      <td>No</td>\n",
       "      <td>72</td>\n",
       "      <td>24.10</td>\n",
       "      <td>1734.65</td>\n",
       "      <td>No</td>\n",
       "    </tr>\n",
       "    <tr>\n",
       "      <th>1</th>\n",
       "      <td>9688-YGXVR</td>\n",
       "      <td>Female</td>\n",
       "      <td>0</td>\n",
       "      <td>No</td>\n",
       "      <td>No</td>\n",
       "      <td>Yes</td>\n",
       "      <td>Yes</td>\n",
       "      <td>44</td>\n",
       "      <td>88.15</td>\n",
       "      <td>3973.2</td>\n",
       "      <td>No</td>\n",
       "    </tr>\n",
       "    <tr>\n",
       "      <th>2</th>\n",
       "      <td>9286-DOJGF</td>\n",
       "      <td>Female</td>\n",
       "      <td>1</td>\n",
       "      <td>Yes</td>\n",
       "      <td>No</td>\n",
       "      <td>Yes</td>\n",
       "      <td>Yes</td>\n",
       "      <td>38</td>\n",
       "      <td>74.95</td>\n",
       "      <td>2869.85</td>\n",
       "      <td>Yes</td>\n",
       "    </tr>\n",
       "    <tr>\n",
       "      <th>3</th>\n",
       "      <td>6994-KERXL</td>\n",
       "      <td>Male</td>\n",
       "      <td>0</td>\n",
       "      <td>No</td>\n",
       "      <td>No</td>\n",
       "      <td>Yes</td>\n",
       "      <td>Yes</td>\n",
       "      <td>4</td>\n",
       "      <td>55.90</td>\n",
       "      <td>238.5</td>\n",
       "      <td>No</td>\n",
       "    </tr>\n",
       "    <tr>\n",
       "      <th>4</th>\n",
       "      <td>2181-UAESM</td>\n",
       "      <td>Male</td>\n",
       "      <td>0</td>\n",
       "      <td>No</td>\n",
       "      <td>No</td>\n",
       "      <td>Yes</td>\n",
       "      <td>No</td>\n",
       "      <td>2</td>\n",
       "      <td>53.45</td>\n",
       "      <td>119.5</td>\n",
       "      <td>No</td>\n",
       "    </tr>\n",
       "  </tbody>\n",
       "</table>\n",
       "</div>"
      ],
      "text/plain": [
       "   customerID  gender  SeniorCitizen Partner Dependents PhoneService  \\\n",
       "0  7010-BRBUU    Male              0     Yes        Yes          Yes   \n",
       "1  9688-YGXVR  Female              0      No         No          Yes   \n",
       "2  9286-DOJGF  Female              1     Yes         No          Yes   \n",
       "3  6994-KERXL    Male              0      No         No          Yes   \n",
       "4  2181-UAESM    Male              0      No         No          Yes   \n",
       "\n",
       "  PaperlessBilling  tenure  MonthlyCharges TotalCharges Churn  \n",
       "0               No      72           24.10      1734.65    No  \n",
       "1              Yes      44           88.15       3973.2    No  \n",
       "2              Yes      38           74.95      2869.85   Yes  \n",
       "3              Yes       4           55.90        238.5    No  \n",
       "4               No       2           53.45        119.5    No  "
      ]
     },
     "execution_count": 2,
     "metadata": {},
     "output_type": "execute_result"
    }
   ],
   "source": [
    "# Insérez votre code ici\n",
    "\n",
    "\n",
    "\n",
    "df = pd.read_csv('churn.csv')\n",
    "df.head()"
   ]
  },
  {
   "cell_type": "code",
   "execution_count": null,
   "metadata": {
    "deletable": false,
    "editable": false,
    "function": "solution"
   },
   "outputs": [],
   "source": [
    "df = pd.read_csv('churn.csv')\n",
    "df.head()\n"
   ]
  },
  {
   "cell_type": "markdown",
   "metadata": {
    "deletable": false,
    "editable": false,
    "run_control": {
     "frozen": true
    }
   },
   "source": [
    "\n",
    "> La colonne `'CustomerId'` est sans importance pour notre problème. Nous pouvons donc la supprimer.\n",
    "\n",
    "* **(c)** Supprimer la colonne `CustomerId`.\n",
    "\n"
   ]
  },
  {
   "cell_type": "code",
   "execution_count": 3,
   "metadata": {},
   "outputs": [],
   "source": [
    "# Insérez votre code ici\n",
    "\n",
    "\n",
    "df = df.drop(['customerID'], axis=1)"
   ]
  },
  {
   "cell_type": "code",
   "execution_count": null,
   "metadata": {
    "deletable": false,
    "editable": false,
    "function": "solution"
   },
   "outputs": [],
   "source": [
    "df = df.drop(['customerID'], axis=1)\n"
   ]
  },
  {
   "cell_type": "markdown",
   "metadata": {
    "deletable": false,
    "editable": false,
    "run_control": {
     "frozen": true
    }
   },
   "source": [
    "\n",
    "* **(d)** Afficher le nombre de valeurs manquantes du `DataFrame`. \n",
    "\n"
   ]
  },
  {
   "cell_type": "code",
   "execution_count": 4,
   "metadata": {},
   "outputs": [
    {
     "data": {
      "text/plain": [
       "gender              0\n",
       "SeniorCitizen       0\n",
       "Partner             0\n",
       "Dependents          0\n",
       "PhoneService        0\n",
       "PaperlessBilling    0\n",
       "tenure              0\n",
       "MonthlyCharges      5\n",
       "TotalCharges        5\n",
       "Churn               0\n",
       "dtype: int64"
      ]
     },
     "execution_count": 4,
     "metadata": {},
     "output_type": "execute_result"
    }
   ],
   "source": [
    "# Insérez votre code ici\n",
    "\n",
    "\n",
    "\n",
    "df.isna().sum()"
   ]
  },
  {
   "cell_type": "code",
   "execution_count": null,
   "metadata": {
    "deletable": false,
    "editable": false,
    "function": "solution"
   },
   "outputs": [],
   "source": [
    "df.isna().sum()\n"
   ]
  },
  {
   "cell_type": "markdown",
   "metadata": {
    "deletable": false,
    "editable": false,
    "run_control": {
     "frozen": true
    }
   },
   "source": [
    "\n",
    "> Il y a 5 valeurs manquantes pour les variables `MonthlyCharges` et `TotalCharges`. Nous n'allons pas supprimer ces lignes pour éviter une perte d'information. Nous allons les remplacer. Cependant, nous nous en occuperons une fois que le jeu de données sera séparé en **jeu d'entraînement** et **jeu de test** : nous ne devons pas apporter d'information du jeu de test dans le jeu d'entraînement **ce qui conduirait à un biais pour notre classification**. \n",
    "* **(e)** Afficher les catégories prises par la variable `Partner` et par la variable `Dependents`. Que remarquez-vous ? \n",
    " \n",
    "\n"
   ]
  },
  {
   "cell_type": "code",
   "execution_count": 5,
   "metadata": {},
   "outputs": [
    {
     "data": {
      "text/plain": [
       "No       3080\n",
       "Yes      2904\n",
       "Yess        2\n",
       "Name: Partner, dtype: int64"
      ]
     },
     "metadata": {},
     "output_type": "display_data"
    },
    {
     "data": {
      "text/plain": [
       "No     4194\n",
       "Yes    1791\n",
       "?         1\n",
       "Name: Dependents, dtype: int64"
      ]
     },
     "metadata": {},
     "output_type": "display_data"
    }
   ],
   "source": [
    "# Insérez votre code ici\n",
    "\n",
    "\n",
    "display(df['Partner'].value_counts()) \n",
    "\n",
    "display(df['Dependents'].value_counts()) "
   ]
  },
  {
   "cell_type": "code",
   "execution_count": null,
   "metadata": {
    "deletable": false,
    "editable": false,
    "function": "solution"
   },
   "outputs": [],
   "source": [
    "display(df['Partner'].value_counts()) \n",
    "\n",
    "display(df['Dependents'].value_counts()) \n"
   ]
  },
  {
   "cell_type": "markdown",
   "metadata": {
    "deletable": false,
    "editable": false,
    "run_control": {
     "frozen": true
    }
   },
   "source": [
    "\n",
    "> Des outliers se sont glissés dans le jeu de données. Nous allons corriger cela. \n",
    "\n",
    "* **(f)**\n",
    "    * (1) Pour la variable `Partner`, remplacer les valeurs \"Yess \" par \"Yes\".\n",
    "    * (2) Pour la variable `Dependents`, remplacer le \"?\" par la modalité la plus courante. \n",
    "\n"
   ]
  },
  {
   "cell_type": "code",
   "execution_count": 6,
   "metadata": {},
   "outputs": [],
   "source": [
    "# Insérez votre code ici\n",
    "\n",
    "df['Partner'] = df['Partner'].replace(\"Yess \", \"Yes\")\n",
    "df['Dependents'] = df['Dependents'].replace(\"?\", \"No\")"
   ]
  },
  {
   "cell_type": "code",
   "execution_count": null,
   "metadata": {
    "deletable": false,
    "editable": false,
    "function": "solution"
   },
   "outputs": [],
   "source": [
    "df['Partner'] = df['Partner'].replace(\"Yess \", \"Yes\")\n",
    "df['Dependents'] = df['Dependents'].replace(\"?\", \"No\")\n"
   ]
  },
  {
   "cell_type": "markdown",
   "metadata": {
    "deletable": false,
    "editable": false,
    "run_control": {
     "frozen": true
    }
   },
   "source": [
    "\n",
    "* **(g)** Certaines valeurs de la variable `TotalCharges` sont renseignées par un espace. Supprimer ces valeurs puis transformer le type de `TotalCharges` en `float`.\n",
    "\n"
   ]
  },
  {
   "cell_type": "code",
   "execution_count": 7,
   "metadata": {},
   "outputs": [],
   "source": [
    "# Insérez votre code ici\n",
    "\n",
    "\n",
    "df = df[df['TotalCharges'] != ' ']\n",
    "df['TotalCharges'] = df['TotalCharges'].astype('float')"
   ]
  },
  {
   "cell_type": "code",
   "execution_count": null,
   "metadata": {
    "deletable": false,
    "editable": false,
    "function": "solution"
   },
   "outputs": [],
   "source": [
    "df = df[df['TotalCharges'] != ' ']\n",
    "df['TotalCharges'] = df['TotalCharges'].astype('float')\n",
    "\n"
   ]
  },
  {
   "cell_type": "markdown",
   "metadata": {
    "deletable": false,
    "editable": false,
    "run_control": {
     "frozen": true
    }
   },
   "source": [
    "\n",
    "* **(h)** Séparer le jeu de données en deux `DataFrames` : \n",
    "    * *`feats`* contenant les variables explicatives,\n",
    "     \n",
    "    * *`target`* contenant la variable cible **`Churn`**.\n",
    "\n",
    "\n"
   ]
  },
  {
   "cell_type": "code",
   "execution_count": 8,
   "metadata": {},
   "outputs": [],
   "source": [
    "# Insérez votre code ici\n",
    "\n",
    "feats = df.drop('Churn', axis=1)\n",
    "target = df['Churn']"
   ]
  },
  {
   "cell_type": "code",
   "execution_count": null,
   "metadata": {
    "deletable": false,
    "editable": false,
    "function": "solution"
   },
   "outputs": [],
   "source": [
    "feats = df.drop('Churn', axis=1)\n",
    "target = df['Churn']\n"
   ]
  },
  {
   "cell_type": "markdown",
   "metadata": {
    "deletable": false,
    "editable": false,
    "run_control": {
     "frozen": true
    }
   },
   "source": [
    "\n",
    "* **(i)** Séparer le jeu de données en un jeu d'entraînement (`X_train`,`y_train`) et un jeu de test (`X_test`, `y_test`) de sorte que la partie de test contient 25% du jeu de données initial.\n",
    "\n",
    "\n"
   ]
  },
  {
   "cell_type": "code",
   "execution_count": 9,
   "metadata": {},
   "outputs": [],
   "source": [
    "# Insérez votre code ici\n",
    "\n",
    "\n",
    "X_train, X_test, y_train, y_test = train_test_split(feats, target, test_size=0.25, random_state = 42)"
   ]
  },
  {
   "cell_type": "code",
   "execution_count": null,
   "metadata": {
    "deletable": false,
    "editable": false,
    "function": "solution"
   },
   "outputs": [],
   "source": [
    "X_train, X_test, y_train, y_test = train_test_split(feats, target, test_size=0.25, random_state = 42)\n"
   ]
  },
  {
   "cell_type": "markdown",
   "metadata": {
    "deletable": false,
    "editable": false,
    "run_control": {
     "frozen": true
    }
   },
   "source": [
    "\n",
    "> Maintenant que nous avons séparé notre jeu de données, revenons à notre problème de valeurs manquantes pour les variables `MonthlyCharges` et `TotalCharges`. \n",
    "\n",
    "* **(j)** Remplacer les valeurs manquantes pour les variables `MonthlyCharges` et `TotalCharges` par leurs moyennes respectives en estimant la moyenne sur le **jeu d'entraînement** et en l'appliquant sur le **jeu d'entraînement et de test**. \n",
    "\n",
    "><div class=\"alert alert-success\">\n",
    "<i class=\"fa fa-question-circle\"></i> &emsp; \n",
    "Nous avons vu dans le <b>notebook 4 \"Méthodologie\"</b>, l'utilisation du <code>SimpleImputer</code> pour la gestion des valeurs manquantes.\n",
    "</div>\n",
    "\n"
   ]
  },
  {
   "cell_type": "code",
   "execution_count": 10,
   "metadata": {},
   "outputs": [],
   "source": [
    "# Insérez votre code ici \n",
    "\n",
    "imputer = SimpleImputer(missing_values=np.nan, strategy='mean')\n",
    "\n",
    "X_train.loc[:,['MonthlyCharges', 'TotalCharges']] = imputer.fit_transform(X_train[['MonthlyCharges', 'TotalCharges']])\n",
    "\n",
    "X_test.loc[:,['MonthlyCharges', 'TotalCharges']] = imputer.transform(X_test[['MonthlyCharges', 'TotalCharges']])"
   ]
  },
  {
   "cell_type": "code",
   "execution_count": null,
   "metadata": {
    "deletable": false,
    "editable": false,
    "function": "solution"
   },
   "outputs": [],
   "source": [
    "imputer = SimpleImputer(missing_values=np.nan, strategy='mean')\n",
    "\n",
    "X_train.loc[:,['MonthlyCharges', 'TotalCharges']] = imputer.fit_transform(X_train[['MonthlyCharges', 'TotalCharges']])\n",
    "\n",
    "X_test.loc[:,['MonthlyCharges', 'TotalCharges']] = imputer.transform(X_test[['MonthlyCharges', 'TotalCharges']])\n"
   ]
  },
  {
   "cell_type": "markdown",
   "metadata": {
    "deletable": false,
    "editable": false,
    "run_control": {
     "frozen": true
    }
   },
   "source": [
    "\n",
    "* **(k)** Standardiser les variables numériques (`'tenure'`, `'MonthlyCharges'`, `'TotalCharges'`) à l'aide de `StandardScaler` en **estimant les paramètres sur le jeu d'entraînement** et en l'appliquant sur le jeu d'entraînement et de test. \n",
    "\n",
    "><div class=\"alert alert-success\">\n",
    "<i class=\"fa fa-question-circle\"></i> &emsp; \n",
    "Nous avons vu dans le <b>notebook 4 \"Méthodologie\"</b> l'utilisation du <code>StandardEncoder</code> pour la standardisation d'un ensemble de données.\n",
    "</div>\n",
    "\n",
    "\n"
   ]
  },
  {
   "cell_type": "code",
   "execution_count": 11,
   "metadata": {},
   "outputs": [],
   "source": [
    "# Insérez votre code ici \n",
    "\n",
    "\n",
    "\n",
    "cols = ['tenure', 'MonthlyCharges', 'TotalCharges']\n",
    "sc = StandardScaler()\n",
    "X_train[cols] = sc.fit_transform(X_train[cols])\n",
    "X_test[cols] = sc.transform(X_test[cols])"
   ]
  },
  {
   "cell_type": "code",
   "execution_count": null,
   "metadata": {
    "deletable": false,
    "editable": false,
    "function": "solution"
   },
   "outputs": [],
   "source": [
    "cols = ['tenure', 'MonthlyCharges', 'TotalCharges']\n",
    "sc = StandardScaler()\n",
    "X_train[cols] = sc.fit_transform(X_train[cols])\n",
    "X_test[cols] = sc.transform(X_test[cols])\n"
   ]
  },
  {
   "cell_type": "markdown",
   "metadata": {
    "deletable": false,
    "editable": false,
    "run_control": {
     "frozen": true
    }
   },
   "source": [
    "\n",
    "> Certaines modalités de nos données sont textuelles. Elles ne pourront pas être traitées par nos algorithmes. En effet, les modèles se basant sur des calculs mathématiques, nous avons besoin que toutes nos données soient numériques : nous allons donc encoder nos variables catégorielles.\n",
    ">\n",
    "><div class=\"alert alert-success\">\n",
    "<i class=\"fa fa-question-circle\"></i> &emsp; \n",
    " Nous avons vu dans le <b>notebook 4 \"Méthodologie\"</b> l'utilisation du <code>LabelEncoder</code> pour l'encodage de la variable cible et du <code>OneHotEncoder</code> pour les variables explicatives. \n",
    "</div>\n",
    "\n",
    "\n",
    "* **(l)** Encoder les modalités de la variable cible **`Churn`** à l'aide d'un `LabelEncoder` en **estimant l'encodage sur le jeu d'entraînement** et en l'appliquant sur le **jeu d'entraînement et de test**. \n",
    " \n",
    "\n",
    "\n"
   ]
  },
  {
   "cell_type": "code",
   "execution_count": 12,
   "metadata": {},
   "outputs": [],
   "source": [
    "# Insérez votre code ici\n",
    "\n",
    "le = LabelEncoder()\n",
    "\n",
    "y_train = le.fit_transform(y_train)\n",
    "\n",
    "y_test = le.transform(y_test)\n",
    "\n",
    "\n",
    "#Deuxieme stratetegie sans le LabelEncoder\n",
    "\n",
    "#def replace_yes_no(x):\n",
    "#    if x == 'No':\n",
    "#        return 0\n",
    "#    if x == 'Yes':\n",
    "#        return 1\n",
    "#y_train = y_train.apply(replace_yes_no)\n",
    "#y_test = y_test.apply(replace_yes_no)\n"
   ]
  },
  {
   "cell_type": "code",
   "execution_count": null,
   "metadata": {
    "deletable": false,
    "editable": false,
    "function": "solution"
   },
   "outputs": [],
   "source": [
    "le = LabelEncoder()\n",
    "\n",
    "y_train = le.fit_transform(y_train)\n",
    "\n",
    "y_test = le.transform(y_test)\n",
    "\n",
    "\n",
    "#Deuxieme stratetegie sans le LabelEncoder\n",
    "\n",
    "#def replace_yes_no(x):\n",
    "#    if x == 'No':\n",
    "#        return 0\n",
    "#    if x == 'Yes':\n",
    "#        return 1\n",
    "#y_train = y_train.apply(replace_yes_no)\n",
    "#y_test = y_test.apply(replace_yes_no)\n"
   ]
  },
  {
   "cell_type": "markdown",
   "metadata": {
    "deletable": false,
    "editable": false,
    "run_control": {
     "frozen": true
    }
   },
   "source": [
    "\n",
    "* **(m)** Encoder les modalités des variables explicatives `gender`, `Partner`, `Dependents`, `PhoneService`, `PaperlessBilling` à l'aide d'un **`OneHotEncoder`** en **estimant l'encodage sur le jeu d'entraînement** et en l'appliquant sur le **jeu d'entraînement et de test**. \n",
    "\n",
    "\n",
    "\n"
   ]
  },
  {
   "cell_type": "code",
   "execution_count": 13,
   "metadata": {},
   "outputs": [],
   "source": [
    "\n",
    "# Le paramètre drop = 'first' permet de supprimer l'une des colonnes créée par le OneHotEncoder\n",
    "# et donc d'éviter un problème de multicolinéarité\n",
    "oneh = OneHotEncoder(drop = 'first', sparse=False)\n",
    "\n",
    "cat = ['gender', 'Partner', 'Dependents', 'PhoneService', 'PaperlessBilling']\n",
    "\n",
    "X_train.loc[:,cat] = oneh.fit_transform(X_train[cat])\n",
    "\n",
    "X_test.loc[:,cat] = oneh.transform(X_test[cat])\n",
    "\n",
    "#deuxieme strategie \n",
    "\n",
    "#def replace_gender(x):\n",
    "#    if x == 'Male':\n",
    "#        return 0\n",
    "#    if x == 'Female':\n",
    "#        return 1\n",
    "#    \n",
    "#def replace_yes_no(x):\n",
    "#    if x == 'No':\n",
    "#        return 0\n",
    "#    if x == 'Yes':\n",
    "#        return 1\n",
    "    \n",
    "#X_train['gender'] = X_train['gender'].apply(replace_gender)\n",
    "#X_train['Dependents'] = X_train['Dependents'].apply(replace_yes_no)\n",
    "#X_train['Partner'] = X_train['Partner'].apply(replace_yes_no)\n",
    "#X_train['PhoneService'] = X_train['PhoneService'].apply(replace_yes_no)\n",
    "#X_train['PaperlessBilling'] = X_train['PaperlessBilling'].apply(replace_yes_no)\n",
    "#\n",
    "#X_test['gender'] = X_test['gender'].apply(replace_gender)\n",
    "#X_test['Dependents'] = X_test['Dependents'].apply(replace_yes_no)\n",
    "#X_test['Partner'] = X_test['Partner'].apply(replace_yes_no)\n",
    "#X_test['PhoneService'] = X_test['PhoneService'].apply(replace_yes_no)\n",
    "#X_test['PaperlessBilling'] = X_test['PaperlessBilling'].apply(replace_yes_no)\n"
   ]
  },
  {
   "cell_type": "code",
   "execution_count": null,
   "metadata": {
    "deletable": false,
    "editable": false,
    "function": "solution"
   },
   "outputs": [],
   "source": [
    "\n",
    "#premiere strategie\n",
    "\n",
    "# Le paramètre drop = 'first' permet de supprimer l'une des colonnes créée par le OneHotEncoder\n",
    "# et donc d'éviter un problème de multicolinéarité\n",
    "oneh = OneHotEncoder(drop = 'first', sparse=False)\n",
    "\n",
    "cat = ['gender', 'Partner', 'Dependents', 'PhoneService', 'PaperlessBilling']\n",
    "\n",
    "X_train.loc[:,cat] = oneh.fit_transform(X_train[cat])\n",
    "\n",
    "X_test.loc[:,cat] = oneh.transform(X_test[cat])\n",
    "\n",
    "#deuxieme strategie \n",
    "\n",
    "#def replace_gender(x):\n",
    "#    if x == 'Male':\n",
    "#        return 0\n",
    "#    if x == 'Female':\n",
    "#        return 1\n",
    "#    \n",
    "#def replace_yes_no(x):\n",
    "#    if x == 'No':\n",
    "#        return 0\n",
    "#    if x == 'Yes':\n",
    "#        return 1\n",
    "    \n",
    "#X_train['gender'] = X_train['gender'].apply(replace_gender)\n",
    "#X_train['Dependents'] = X_train['Dependents'].apply(replace_yes_no)\n",
    "#X_train['Partner'] = X_train['Partner'].apply(replace_yes_no)\n",
    "#X_train['PhoneService'] = X_train['PhoneService'].apply(replace_yes_no)\n",
    "#X_train['PaperlessBilling'] = X_train['PaperlessBilling'].apply(replace_yes_no)\n",
    "#\n",
    "#X_test['gender'] = X_test['gender'].apply(replace_gender)\n",
    "#X_test['Dependents'] = X_test['Dependents'].apply(replace_yes_no)\n",
    "#X_test['Partner'] = X_test['Partner'].apply(replace_yes_no)\n",
    "#X_test['PhoneService'] = X_test['PhoneService'].apply(replace_yes_no)\n",
    "#X_test['PaperlessBilling'] = X_test['PaperlessBilling'].apply(replace_yes_no)\n"
   ]
  },
  {
   "cell_type": "markdown",
   "metadata": {
    "deletable": false,
    "editable": false,
    "run_control": {
     "frozen": true
    }
   },
   "source": [
    "\n",
    "\n",
    "<h3> 3. Classification </h3> \n",
    "\n",
    "\n",
    "> Nos données sont prêtes, nous pouvons maintenant passer à la partie **modélisation**. Pour chacun des modèles que nous allons implémenter, nous allons les évaluer grâce à la matrice de confusion et aux métriques usuelles : le **score**, le **rappel**, la **précision** et le **f1-score**. \n",
    ">\n",
    "><div class=\"alert alert-success\">\n",
    "<i class=\"fa fa-question-circle\"></i> &emsp; \n",
    "Ces métriques et leurs interprétations sont détaillées dans le <b>notebook 3 \"Modèles Linéaires et Modèles Arbres\"</b>.\n",
    "</div>\n",
    "\n",
    "\n",
    "<h4> 3.1. Régression logistique </h4> \n",
    "\n",
    "* **(a)**\n",
    "    * (1) Instancier un modèle `LogisticRegression` de **régression logistique** et entraîner le sur vos données d'entraînement.\n",
    "    * (2) Évaluer le modèle à l'aide de la méthode `score` sur les données d'entraînement et de test.\n",
    "\n",
    "\n"
   ]
  },
  {
   "cell_type": "code",
   "execution_count": 14,
   "metadata": {},
   "outputs": [
    {
     "name": "stdout",
     "output_type": "stream",
     "text": [
      "Score sur ensemble train 0.7911646586345381\n",
      "Score sur ensemble test 0.7904953145917001\n"
     ]
    }
   ],
   "source": [
    "#Insérez votre code ici\n",
    "\n",
    "\n",
    "from sklearn.linear_model import LogisticRegression\n",
    "\n",
    "reglog = LogisticRegression()\n",
    "reglog.fit(X_train, y_train)\n",
    "\n",
    "print('Score sur ensemble train', reglog.score(X_train, y_train))\n",
    "print('Score sur ensemble test', reglog.score(X_test, y_test))"
   ]
  },
  {
   "cell_type": "code",
   "execution_count": null,
   "metadata": {
    "deletable": false,
    "editable": false,
    "function": "solution"
   },
   "outputs": [],
   "source": [
    "from sklearn.linear_model import LogisticRegression\n",
    "\n",
    "reglog = LogisticRegression()\n",
    "reglog.fit(X_train, y_train)\n",
    "\n",
    "print('Score sur ensemble train', reglog.score(X_train, y_train))\n",
    "print('Score sur ensemble test', reglog.score(X_test, y_test))\n"
   ]
  },
  {
   "cell_type": "markdown",
   "metadata": {
    "deletable": false,
    "editable": false,
    "run_control": {
     "frozen": true
    }
   },
   "source": [
    "\n",
    "* **(b)** Evaluer votre modèle en affichant le `classification_report` et en affichant la **matrice de confusion** de ce dernier. Que pouvez-vous conclure ?\n",
    "\n"
   ]
  },
  {
   "cell_type": "code",
   "execution_count": 15,
   "metadata": {},
   "outputs": [
    {
     "data": {
      "text/html": [
       "<div>\n",
       "<style scoped>\n",
       "    .dataframe tbody tr th:only-of-type {\n",
       "        vertical-align: middle;\n",
       "    }\n",
       "\n",
       "    .dataframe tbody tr th {\n",
       "        vertical-align: top;\n",
       "    }\n",
       "\n",
       "    .dataframe thead th {\n",
       "        text-align: right;\n",
       "    }\n",
       "</style>\n",
       "<table border=\"1\" class=\"dataframe\">\n",
       "  <thead>\n",
       "    <tr style=\"text-align: right;\">\n",
       "      <th>Prédiction</th>\n",
       "      <th>0</th>\n",
       "      <th>1</th>\n",
       "    </tr>\n",
       "    <tr>\n",
       "      <th>Realité</th>\n",
       "      <th></th>\n",
       "      <th></th>\n",
       "    </tr>\n",
       "  </thead>\n",
       "  <tbody>\n",
       "    <tr>\n",
       "      <th>0</th>\n",
       "      <td>1004</td>\n",
       "      <td>94</td>\n",
       "    </tr>\n",
       "    <tr>\n",
       "      <th>1</th>\n",
       "      <td>219</td>\n",
       "      <td>177</td>\n",
       "    </tr>\n",
       "  </tbody>\n",
       "</table>\n",
       "</div>"
      ],
      "text/plain": [
       "Prédiction     0    1\n",
       "Realité              \n",
       "0           1004   94\n",
       "1            219  177"
      ]
     },
     "metadata": {},
     "output_type": "display_data"
    },
    {
     "name": "stdout",
     "output_type": "stream",
     "text": [
      "              precision    recall  f1-score   support\n",
      "\n",
      "           0       0.82      0.91      0.87      1098\n",
      "           1       0.65      0.45      0.53       396\n",
      "\n",
      "    accuracy                           0.79      1494\n",
      "   macro avg       0.74      0.68      0.70      1494\n",
      "weighted avg       0.78      0.79      0.78      1494\n",
      "\n"
     ]
    }
   ],
   "source": [
    "# Insérez votre code ici\n",
    "\n",
    "\n",
    "from sklearn.metrics import classification_report\n",
    "\n",
    "y_pred = reglog.predict(X_test)\n",
    "\n",
    "display(pd.crosstab(y_test,y_pred, rownames=['Realité'], colnames=['Prédiction']))\n",
    "\n",
    "\n",
    "print(classification_report(y_test, y_pred, ))\n",
    "\n",
    "\n",
    "# La classe 1 est mal prédite par le modèle. "
   ]
  },
  {
   "cell_type": "code",
   "execution_count": null,
   "metadata": {
    "deletable": false,
    "editable": false,
    "function": "solution"
   },
   "outputs": [],
   "source": [
    "from sklearn.metrics import classification_report\n",
    "\n",
    "y_pred = reglog.predict(X_test)\n",
    "\n",
    "display(pd.crosstab(y_test,y_pred, rownames=['Realité'], colnames=['Prédiction']))\n",
    "\n",
    "\n",
    "print(classification_report(y_test, y_pred, ))\n",
    "\n",
    "\n",
    "# La classe 1 est mal prédite par le modèle. \n"
   ]
  },
  {
   "cell_type": "markdown",
   "metadata": {
    "deletable": false,
    "editable": false,
    "run_control": {
     "frozen": true
    }
   },
   "source": [
    "\n",
    "<h4> 3.2. DecisionTreeClassifier </h4> \n",
    "\n",
    "* **(a)**\n",
    "    * (1) Instancier un modèle d'arbres de décision et entraîner le sur vos données d'entraînement.\n",
    "    * (2) Évaluer le modèle à l'aide de la méthode `score` sur vos données d'entraînement et de test.\n",
    "\n",
    "\n"
   ]
  },
  {
   "cell_type": "code",
   "execution_count": 16,
   "metadata": {},
   "outputs": [
    {
     "name": "stdout",
     "output_type": "stream",
     "text": [
      "Score sur ensemble train 0.99776885319054\n",
      "Score sur ensemble test 0.7128514056224899\n"
     ]
    }
   ],
   "source": [
    "# Insérez votre code ici\n",
    "\n",
    "\n",
    "\n",
    "from sklearn import tree\n",
    "\n",
    "clf = tree.DecisionTreeClassifier()\n",
    "clf.fit(X_train, y_train)\n",
    "\n",
    "print('Score sur ensemble train', clf.score(X_train, y_train))\n",
    "print('Score sur ensemble test', clf.score(X_test, y_test))\n",
    "\n",
    "#On observe un réel overfitting"
   ]
  },
  {
   "cell_type": "code",
   "execution_count": null,
   "metadata": {
    "deletable": false,
    "editable": false,
    "function": "solution"
   },
   "outputs": [],
   "source": [
    "from sklearn import tree\n",
    "\n",
    "clf = tree.DecisionTreeClassifier()\n",
    "clf.fit(X_train, y_train)\n",
    "\n",
    "print('Score sur ensemble train', clf.score(X_train, y_train))\n",
    "print('Score sur ensemble test', clf.score(X_test, y_test))\n",
    "\n",
    "#On observe un réel overfitting\n"
   ]
  },
  {
   "cell_type": "markdown",
   "metadata": {
    "deletable": false,
    "editable": false,
    "run_control": {
     "frozen": true
    }
   },
   "source": [
    "\n",
    "* **(b)** Evaluer votre modèle en affichant le `classification_report` et la **matrice de confusion** de ce dernier. Que pouvez-vous conclure ?\n",
    "\n"
   ]
  },
  {
   "cell_type": "code",
   "execution_count": 17,
   "metadata": {},
   "outputs": [
    {
     "data": {
      "text/html": [
       "<div>\n",
       "<style scoped>\n",
       "    .dataframe tbody tr th:only-of-type {\n",
       "        vertical-align: middle;\n",
       "    }\n",
       "\n",
       "    .dataframe tbody tr th {\n",
       "        vertical-align: top;\n",
       "    }\n",
       "\n",
       "    .dataframe thead th {\n",
       "        text-align: right;\n",
       "    }\n",
       "</style>\n",
       "<table border=\"1\" class=\"dataframe\">\n",
       "  <thead>\n",
       "    <tr style=\"text-align: right;\">\n",
       "      <th>Prédiction</th>\n",
       "      <th>0</th>\n",
       "      <th>1</th>\n",
       "    </tr>\n",
       "    <tr>\n",
       "      <th>Realité</th>\n",
       "      <th></th>\n",
       "      <th></th>\n",
       "    </tr>\n",
       "  </thead>\n",
       "  <tbody>\n",
       "    <tr>\n",
       "      <th>0</th>\n",
       "      <td>872</td>\n",
       "      <td>226</td>\n",
       "    </tr>\n",
       "    <tr>\n",
       "      <th>1</th>\n",
       "      <td>203</td>\n",
       "      <td>193</td>\n",
       "    </tr>\n",
       "  </tbody>\n",
       "</table>\n",
       "</div>"
      ],
      "text/plain": [
       "Prédiction    0    1\n",
       "Realité             \n",
       "0           872  226\n",
       "1           203  193"
      ]
     },
     "metadata": {},
     "output_type": "display_data"
    },
    {
     "name": "stdout",
     "output_type": "stream",
     "text": [
      "              precision    recall  f1-score   support\n",
      "\n",
      "           0       0.81      0.79      0.80      1098\n",
      "           1       0.46      0.49      0.47       396\n",
      "\n",
      "    accuracy                           0.71      1494\n",
      "   macro avg       0.64      0.64      0.64      1494\n",
      "weighted avg       0.72      0.71      0.72      1494\n",
      "\n"
     ]
    }
   ],
   "source": [
    "# Insérez votre code ici\n",
    "\n",
    "from sklearn.metrics import classification_report\n",
    "\n",
    "y_pred = clf.predict(X_test)\n",
    "\n",
    "display(pd.crosstab(y_test,y_pred, rownames=['Realité'], colnames=['Prédiction']))\n",
    "print(classification_report(y_test, y_pred))\n",
    "\n",
    "# Comme pour la régression logistique, la classe 1 est mal prédite par le modèle."
   ]
  },
  {
   "cell_type": "code",
   "execution_count": null,
   "metadata": {
    "deletable": false,
    "editable": false,
    "function": "solution"
   },
   "outputs": [],
   "source": [
    "from sklearn.metrics import classification_report\n",
    "\n",
    "y_pred = clf.predict(X_test)\n",
    "\n",
    "display(pd.crosstab(y_test,y_pred, rownames=['Realité'], colnames=['Prédiction']))\n",
    "print(classification_report(y_test, y_pred))\n",
    "\n",
    "# Comme pour la régression logistique, la classe 1 est mal prédite par le modèle.\n",
    "\n"
   ]
  },
  {
   "cell_type": "markdown",
   "metadata": {
    "deletable": false,
    "editable": false,
    "run_control": {
     "frozen": true
    }
   },
   "source": [
    "\n",
    "> Les arbres de décisions permettent de faire des séparations basées sur les différentes variables en minimisant une fonction que l'on aura choisie a priori. Grâce à ces différentes séparations, il nous est possible de calculer l'importance de chacune des variables, c'est-à-dire le niveau d'impact sur la décision liée à cette variable uniquement. Ces importances peuvent se retrouver grâce à l'attribut `feature_importances_` de notre arbre de décision.\n",
    "\n",
    "* **(c)** Utiliser l'arbre de décision pour afficher l'importance de toutes les variables.\n",
    "\n"
   ]
  },
  {
   "cell_type": "code",
   "execution_count": 19,
   "metadata": {},
   "outputs": [
    {
     "data": {
      "image/png": "[encoded data removed]",
      "text/plain": [
       "<Figure size 576x432 with 1 Axes>"
      ]
     },
     "metadata": {
      "needs_background": "light"
     },
     "output_type": "display_data"
    }
   ],
   "source": [
    "# Insérez votre code ici\n",
    "\n",
    "\n",
    "import matplotlib.pyplot as plt\n",
    "%matplotlib inline\n",
    "feat_importances = pd.DataFrame(clf.feature_importances_, index=feats.columns, columns=[\"Importance\"])\n",
    "feat_importances.sort_values(by='Importance', ascending=False, inplace=True)\n",
    "feat_importances.plot(kind='bar', figsize=(8,6));"
   ]
  },
  {
   "cell_type": "code",
   "execution_count": null,
   "metadata": {
    "deletable": false,
    "editable": false,
    "function": "solution"
   },
   "outputs": [],
   "source": [
    "import matplotlib.pyplot as plt\n",
    "%matplotlib inline\n",
    "feat_importances = pd.DataFrame(clf.feature_importances_, index=feats.columns, columns=[\"Importance\"])\n",
    "feat_importances.sort_values(by='Importance', ascending=False, inplace=True)\n",
    "feat_importances.plot(kind='bar', figsize=(8,6))\n"
   ]
  },
  {
   "cell_type": "markdown",
   "metadata": {
    "deletable": false,
    "editable": false,
    "run_control": {
     "frozen": true
    }
   },
   "source": [
    "\n",
    "> Les variables `MonthlyCharges`, `TotalCharges` et `tenure` sont les variables les plus importantes pour la classification de l'arbre de décision.\n",
    "> Nous pouvons utiliser ces importances pour tenter de réduire la taille de notre jeu de données et pour interpréter notre modèle. Les variables qui sont les plus importantes pour la décision de l'algorithme sont : `MonthlyCharges` et `TotalCharges`. \n",
    "\n",
    "* **(d)** Entraîner votre modèle en ne gardant que les trois variables les plus importantes, comparer ces résultats avec le modèle précédent.\n",
    "\n",
    "\n"
   ]
  },
  {
   "cell_type": "code",
   "execution_count": 20,
   "metadata": {},
   "outputs": [
    {
     "name": "stdout",
     "output_type": "stream",
     "text": [
      "0.9941990182954038\n",
      "0.7128514056224899\n"
     ]
    }
   ],
   "source": [
    "# Insérez votre code ici\n",
    "\n",
    "X_train_new = X_train[['MonthlyCharges','TotalCharges','tenure','gender']]\n",
    "X_test_new = X_test[['MonthlyCharges','TotalCharges','tenure','gender']]\n",
    "\n",
    "clf = tree.DecisionTreeClassifier(random_state=42) \n",
    "  \n",
    "clf.fit(X_train_new, y_train)\n",
    "\n",
    "print(clf.score(X_train_new,y_train))\n",
    "print(clf.score(X_test_new,y_test))"
   ]
  },
  {
   "cell_type": "code",
   "execution_count": null,
   "metadata": {
    "deletable": false,
    "editable": false,
    "function": "solution"
   },
   "outputs": [],
   "source": [
    "X_train_new = X_train[['MonthlyCharges','TotalCharges','tenure','gender']]\n",
    "X_test_new = X_test[['MonthlyCharges','TotalCharges','tenure','gender']]\n",
    "\n",
    "clf = tree.DecisionTreeClassifier(random_state=42) \n",
    "  \n",
    "clf.fit(X_train_new, y_train)\n",
    "\n",
    "print(clf.score(X_train_new,y_train))\n",
    "print(clf.score(X_test_new,y_test))\n"
   ]
  },
  {
   "cell_type": "markdown",
   "metadata": {
    "deletable": false,
    "editable": false,
    "run_control": {
     "frozen": true
    }
   },
   "source": [
    "\n",
    "* **(e)** Evaluer votre modèle en affichant le `classification_report` et la **matrice de confusion**. Que pouvez-vous conclure ?\n",
    "\n"
   ]
  },
  {
   "cell_type": "code",
   "execution_count": 21,
   "metadata": {},
   "outputs": [
    {
     "data": {
      "text/html": [
       "<div>\n",
       "<style scoped>\n",
       "    .dataframe tbody tr th:only-of-type {\n",
       "        vertical-align: middle;\n",
       "    }\n",
       "\n",
       "    .dataframe tbody tr th {\n",
       "        vertical-align: top;\n",
       "    }\n",
       "\n",
       "    .dataframe thead th {\n",
       "        text-align: right;\n",
       "    }\n",
       "</style>\n",
       "<table border=\"1\" class=\"dataframe\">\n",
       "  <thead>\n",
       "    <tr style=\"text-align: right;\">\n",
       "      <th>Prédiction</th>\n",
       "      <th>0</th>\n",
       "      <th>1</th>\n",
       "    </tr>\n",
       "    <tr>\n",
       "      <th>Realité</th>\n",
       "      <th></th>\n",
       "      <th></th>\n",
       "    </tr>\n",
       "  </thead>\n",
       "  <tbody>\n",
       "    <tr>\n",
       "      <th>0</th>\n",
       "      <td>894</td>\n",
       "      <td>204</td>\n",
       "    </tr>\n",
       "    <tr>\n",
       "      <th>1</th>\n",
       "      <td>225</td>\n",
       "      <td>171</td>\n",
       "    </tr>\n",
       "  </tbody>\n",
       "</table>\n",
       "</div>"
      ],
      "text/plain": [
       "Prédiction    0    1\n",
       "Realité             \n",
       "0           894  204\n",
       "1           225  171"
      ]
     },
     "metadata": {},
     "output_type": "display_data"
    },
    {
     "name": "stdout",
     "output_type": "stream",
     "text": [
      "              precision    recall  f1-score   support\n",
      "\n",
      "           0       0.80      0.81      0.81      1098\n",
      "           1       0.46      0.43      0.44       396\n",
      "\n",
      "    accuracy                           0.71      1494\n",
      "   macro avg       0.63      0.62      0.63      1494\n",
      "weighted avg       0.71      0.71      0.71      1494\n",
      "\n"
     ]
    }
   ],
   "source": [
    "# Insérez votre code ici\n",
    "\n",
    "from sklearn.metrics import classification_report\n",
    "\n",
    "y_pred = clf.predict(X_test_new)\n",
    "\n",
    "display(pd.crosstab(y_test,y_pred, rownames=['Realité'], colnames=['Prédiction']))\n",
    "print(classification_report(y_test, y_pred))"
   ]
  },
  {
   "cell_type": "code",
   "execution_count": null,
   "metadata": {
    "deletable": false,
    "editable": false,
    "function": "solution"
   },
   "outputs": [],
   "source": [
    "from sklearn.metrics import classification_report\n",
    "\n",
    "y_pred = clf.predict(X_test_new)\n",
    "\n",
    "display(pd.crosstab(y_test,y_pred, rownames=['Realité'], colnames=['Prédiction']))\n",
    "print(classification_report(y_test, y_pred))\n"
   ]
  },
  {
   "cell_type": "markdown",
   "metadata": {
    "deletable": false,
    "editable": false,
    "run_control": {
     "frozen": true
    }
   },
   "source": [
    "\n",
    "> Nous pouvons observer que nous ne perdons pas la performance de notre modèle en enlevant un certain nombre de données, les résultats peuvent même parfois être meilleurs. La réduction de la dimension de notre jeu de données peut donc être une étape cruciale dans l'élaboration de notre modèle.\n",
    ">\n",
    ">Nous pouvons à présent afficher l'arbre correspondant aux différentes séparations avec le nombre de variables réduit. Nous réinstancions un modèle en choisissant une profondeur maximale de l'arbre de 3 par souci de visualisation. La cellule de code pour l'afficher est la suivante.\n",
    "\n",
    "* **(f)** Exécuter la cellule de code suivante pour afficher l'arbre de décision. \n",
    "\n",
    "\n"
   ]
  },
  {
   "cell_type": "code",
   "execution_count": 22,
   "metadata": {
    "deletable": false,
    "editable": false
   },
   "outputs": [
    {
     "data": {
      "image/png": "[encoded data removed]",
      "text/plain": [
       "<Figure size 1440x1440 with 1 Axes>"
      ]
     },
     "metadata": {
      "needs_background": "light"
     },
     "output_type": "display_data"
    }
   ],
   "source": [
    "from sklearn.tree import plot_tree \n",
    "\n",
    "clf = tree.DecisionTreeClassifier(random_state=42,max_depth = 3) \n",
    "\n",
    "clf.fit(X_train_new, y_train)\n",
    "\n",
    "fig, ax = plt.subplots(figsize=(20, 20))  \n",
    "\n",
    "plot_tree(clf, \n",
    "          feature_names = ['MonthlyCharges','TotalCharges','tenure','gender'],\n",
    "          class_names = ['Yes','No'],\n",
    "          filled = True, \n",
    "          rounded = True)\n",
    "\n",
    "plt.show()\n"
   ]
  },
  {
   "cell_type": "markdown",
   "metadata": {
    "deletable": false,
    "editable": false,
    "run_control": {
     "frozen": true
    }
   },
   "source": [
    "\n",
    "><b> Comment interpréter cet arbre ? </b>\n",
    ">\n",
    ">- Nous regardons dans un premier temps la valeur de `tenure`, si elle est inférieure à -0.857, nous passons à gauche de l'arbre. Dans le cas contraire, nous passons à droite;\n",
    ">- Si nous sommes dans le sous-arbre de gauche, nous regardons à présent la variable `MonthlyCharges`. Si celle-ci est inférieure à 0.045, nous passons à gauche de l'arbre, sinon nous passons à droite;\n",
    ">- Nous faisons de même avec toutes les variables de décisions de chaque nœud dans lequel nous tombons jusqu'à arriver à une feuille, nous donnant la classe majoritaire et par conséquent la prédiction.\n",
    "> \n",
    "> Nous avons affiché l'arbre avec les variables normalisées ce qui rends difficile l'interprétabilité : **à  quoi cela correspond dans la vraie vie lorsque `MonthlyCharges` < 0.045 ?** Pour que cela soit plus interprétable, nous affichons l'arbre de décision avec les données non normalisées juste en dessous. \n",
    "><div class=\"alert alert-success\">\n",
    "<i class=\"fa fa-question-circle\"></i> &emsp; \n",
    "    Nous faisons des prédictions et affichons l'arbre avec des données non normalisées car comme nous l'avons vu dans le <b> notebook 3 Modèles arbres et linéaires </b> , ce n'est pas utile de normaliser les données avec un arbre. \n",
    "</div>\n",
    "\n",
    "* **(g)** Exécuter la cellule de code suivante pour afficher l'arbre de décision avec les données non normalisées. \n",
    "\n"
   ]
  },
  {
   "cell_type": "code",
   "execution_count": 23,
   "metadata": {
    "deletable": false,
    "editable": false
   },
   "outputs": [
    {
     "data": {
      "image/png": "[encoded data removed]",
      "text/plain": [
       "<Figure size 1440x1440 with 1 Axes>"
      ]
     },
     "metadata": {
      "needs_background": "light"
     },
     "output_type": "display_data"
    }
   ],
   "source": [
    "from sklearn.tree import plot_tree \n",
    "\n",
    "clf = tree.DecisionTreeClassifier(random_state=42,max_depth = 3) \n",
    "  \n",
    "# La fonction inverse_tranform de StandardScaler permet de retrouver les données de départ non normalisées \n",
    "X_train_new_unscaled = sc.inverse_transform(X_train_new[['MonthlyCharges','TotalCharges','tenure']])\n",
    "\n",
    "\n",
    "clf.fit(X_train_new_unscaled, y_train)\n",
    "\n",
    "fig, ax = plt.subplots(figsize=(20, 20))  \n",
    "\n",
    "plot_tree(clf, \n",
    "          feature_names = ['MonthlyCharges','TotalCharges','tenure','gender'],\n",
    "          class_names = ['Yes','No'],\n",
    "          filled = True, \n",
    "          rounded = True)\n",
    "\n",
    "plt.show()\n"
   ]
  },
  {
   "cell_type": "markdown",
   "metadata": {
    "deletable": false,
    "editable": false,
    "run_control": {
     "frozen": true
    }
   },
   "source": [
    "\n",
    "><b> Comment interpréter cet arbre ? </b>\n",
    ">\n",
    "> C'est exactement la même logique que pour l'arbre avec les données **normalisées** :\n",
    ">- Nous regardons dans un premier temps la valeur de `tenure`, si elle est inférieure à 804, nous passons à gauche de l'arbre. Dans le cas contraire, nous passons à droite;\n",
    ">- Si nous sommes dans le sous-arbre de gauche, nous regardons à présent la variable `MonthlyCharges`. Si celle-ci est inférieure à 33.7, nous passons à gauche de l'arbre, sinon nous passons à droite;\n",
    ">- Nous faisons de même avec toutes les variables de décisions de chaque nœud dans lequel nous tombons jusqu'à arriver à une feuille, nous donnant la classe majoritaire et par conséquent la prédiction.\n",
    ">\n",
    "\n",
    "\n",
    "<h4> 3.3. RandomForest </h4> \n",
    "\n",
    "* **(a)** \n",
    "    * (1) Instancier un modèle de forêt aléatoire et entraîner le sur vos données d'entraînement.\n",
    "    * (2) Évaluer le modèle à l'aide de la méthode `score` sur vos données d'entraînement et de test.\n",
    "\n",
    "\n"
   ]
  },
  {
   "cell_type": "code",
   "execution_count": 24,
   "metadata": {},
   "outputs": [
    {
     "name": "stdout",
     "output_type": "stream",
     "text": [
      "Score sur ensemble train 0.9975457385095939\n",
      "Score sur ensemble test 0.7684069611780455\n"
     ]
    }
   ],
   "source": [
    "# Insérez votre code ici\n",
    "\n",
    "from sklearn.ensemble import RandomForestClassifier\n",
    "\n",
    "rf = RandomForestClassifier()\n",
    "rf.fit(X_train, y_train)\n",
    "\n",
    "print('Score sur ensemble train', rf.score(X_train, y_train))\n",
    "print('Score sur ensemble test', rf.score(X_test, y_test))"
   ]
  },
  {
   "cell_type": "code",
   "execution_count": null,
   "metadata": {
    "deletable": false,
    "editable": false,
    "function": "solution"
   },
   "outputs": [],
   "source": [
    "from sklearn.ensemble import RandomForestClassifier\n",
    "\n",
    "rf = RandomForestClassifier()\n",
    "rf.fit(X_train, y_train)\n",
    "\n",
    "print('Score sur ensemble train', rf.score(X_train, y_train))\n",
    "print('Score sur ensemble test', rf.score(X_test, y_test))\n"
   ]
  },
  {
   "cell_type": "markdown",
   "metadata": {
    "deletable": false,
    "editable": false,
    "run_control": {
     "frozen": true
    }
   },
   "source": [
    "\n",
    "* **(b)** Evaluer votre modèle en affichant le `classification_report` et en affichant la **matrice de confusion** de ce dernier. Que pouvez-vous conclure ?\n",
    "\n"
   ]
  },
  {
   "cell_type": "code",
   "execution_count": 25,
   "metadata": {},
   "outputs": [
    {
     "name": "stdout",
     "output_type": "stream",
     "text": [
      "col_0    0    1\n",
      "row_0          \n",
      "0      971  127\n",
      "1      219  177\n",
      "              precision    recall  f1-score   support\n",
      "\n",
      "           0       0.82      0.88      0.85      1098\n",
      "           1       0.58      0.45      0.51       396\n",
      "\n",
      "    accuracy                           0.77      1494\n",
      "   macro avg       0.70      0.67      0.68      1494\n",
      "weighted avg       0.75      0.77      0.76      1494\n",
      "\n"
     ]
    }
   ],
   "source": [
    "from sklearn.metrics import classification_report\n",
    "\n",
    "y_pred = rf.predict(X_test)\n",
    "\n",
    "print(pd.crosstab(y_test,y_pred))\n",
    "print(classification_report(y_test, y_pred))\n",
    "\n",
    "#On observe de meilleurs résultats"
   ]
  },
  {
   "cell_type": "code",
   "execution_count": null,
   "metadata": {
    "deletable": false,
    "editable": false,
    "function": "solution"
   },
   "outputs": [],
   "source": [
    "from sklearn.metrics import classification_report\n",
    "\n",
    "y_pred = rf.predict(X_test)\n",
    "\n",
    "print(pd.crosstab(y_test,y_pred))\n",
    "print(classification_report(y_test, y_pred))\n",
    "\n",
    "#On observe de meilleurs résultats\n"
   ]
  },
  {
   "cell_type": "markdown",
   "metadata": {
    "deletable": false,
    "editable": false,
    "run_control": {
     "frozen": true
    }
   },
   "source": [
    "\n",
    "<h3> 4. Un mot sur le déséquilibre des classes </h3>\n",
    "\n",
    "* **(a)** Afficher la distribution en pourcentage de la variable cible.\n",
    "\n",
    "\n"
   ]
  },
  {
   "cell_type": "code",
   "execution_count": 26,
   "metadata": {},
   "outputs": [
    {
     "data": {
      "text/plain": [
       "No     0.734438\n",
       "Yes    0.265562\n",
       "Name: Churn, dtype: float64"
      ]
     },
     "execution_count": 26,
     "metadata": {},
     "output_type": "execute_result"
    }
   ],
   "source": [
    "#Insérez votre code ici\n",
    "\n",
    "\n",
    "target.value_counts(normalize=True)"
   ]
  },
  {
   "cell_type": "code",
   "execution_count": null,
   "metadata": {
    "deletable": false,
    "editable": false,
    "function": "solution"
   },
   "outputs": [],
   "source": [
    "target.value_counts(normalize=True)\n"
   ]
  },
  {
   "cell_type": "markdown",
   "metadata": {
    "deletable": false,
    "editable": false,
    "run_control": {
     "frozen": true
    }
   },
   "source": [
    "\n",
    "> Dans notre base clients, 26.5% des clients présents ont résilié leur contrat, ce qui signifie qu'un modèle naïf qui prédit que tous les clients restent, obtiendrait déjà un score de 73,4 % d'**accuracy**. La structure de notre dataset présente donc déjà une limitation et un potentiel biais d'entraînement par son déséquilibre. Une bonne manière de gérer ça et d'effectuer un <b> resampling </b> de nos données. Cela signifie que l'on rajoute aléatoirement des données à la base sous-représentée (oversampling). La librairie `imblearn` permet de faire ces manipulations. \n",
    "\n",
    "* **(b)** Exécuter la cellule suivante pour effectuer ce ré-échantillonnage et afficher la nouvelle distribution.\n",
    "\n",
    "\n"
   ]
  },
  {
   "cell_type": "code",
   "execution_count": 27,
   "metadata": {
    "deletable": false,
    "editable": false
   },
   "outputs": [
    {
     "name": "stdout",
     "output_type": "stream",
     "text": [
      "Classes échantillon oversampled : {0: 0.5, 1: 0.5}\n"
     ]
    }
   ],
   "source": [
    "rOs = RandomOverSampler()\n",
    "X_ro, y_ro = rOs.fit_resample(X_train, y_train)\n",
    "print('Classes échantillon oversampled :', dict(pd.Series(y_ro).value_counts(normalize = True)))\n"
   ]
  },
  {
   "cell_type": "markdown",
   "metadata": {
    "deletable": false,
    "editable": false,
    "run_control": {
     "frozen": true
    }
   },
   "source": [
    "\n",
    "* **(c)** Ré-entrainer votre meilleur modèle avec les données réechantillonnées et commenter les résultats.\n",
    "\n"
   ]
  },
  {
   "cell_type": "code",
   "execution_count": 28,
   "metadata": {},
   "outputs": [
    {
     "name": "stdout",
     "output_type": "stream",
     "text": [
      "Score sur ensemble train 0.9981768459434822\n",
      "Score sur ensemble test 0.7556894243641231\n"
     ]
    },
    {
     "data": {
      "text/html": [
       "<div>\n",
       "<style scoped>\n",
       "    .dataframe tbody tr th:only-of-type {\n",
       "        vertical-align: middle;\n",
       "    }\n",
       "\n",
       "    .dataframe tbody tr th {\n",
       "        vertical-align: top;\n",
       "    }\n",
       "\n",
       "    .dataframe thead th {\n",
       "        text-align: right;\n",
       "    }\n",
       "</style>\n",
       "<table border=\"1\" class=\"dataframe\">\n",
       "  <thead>\n",
       "    <tr style=\"text-align: right;\">\n",
       "      <th>col_0</th>\n",
       "      <th>0</th>\n",
       "      <th>1</th>\n",
       "    </tr>\n",
       "    <tr>\n",
       "      <th>row_0</th>\n",
       "      <th></th>\n",
       "      <th></th>\n",
       "    </tr>\n",
       "  </thead>\n",
       "  <tbody>\n",
       "    <tr>\n",
       "      <th>0</th>\n",
       "      <td>906</td>\n",
       "      <td>192</td>\n",
       "    </tr>\n",
       "    <tr>\n",
       "      <th>1</th>\n",
       "      <td>173</td>\n",
       "      <td>223</td>\n",
       "    </tr>\n",
       "  </tbody>\n",
       "</table>\n",
       "</div>"
      ],
      "text/plain": [
       "col_0    0    1\n",
       "row_0          \n",
       "0      906  192\n",
       "1      173  223"
      ]
     },
     "metadata": {},
     "output_type": "display_data"
    },
    {
     "name": "stdout",
     "output_type": "stream",
     "text": [
      "              precision    recall  f1-score   support\n",
      "\n",
      "           0       0.84      0.83      0.83      1098\n",
      "           1       0.54      0.56      0.55       396\n",
      "\n",
      "    accuracy                           0.76      1494\n",
      "   macro avg       0.69      0.69      0.69      1494\n",
      "weighted avg       0.76      0.76      0.76      1494\n",
      "\n"
     ]
    }
   ],
   "source": [
    "from sklearn.ensemble import RandomForestClassifier\n",
    "\n",
    "rf = RandomForestClassifier()\n",
    "rf.fit(X_ro, y_ro)\n",
    "\n",
    "print('Score sur ensemble train', rf.score(X_ro, y_ro))\n",
    "print('Score sur ensemble test', rf.score(X_test, y_test))\n",
    "\n",
    "from sklearn.metrics import classification_report\n",
    "\n",
    "y_pred = rf.predict(X_test)\n",
    "\n",
    "\n",
    "display(pd.crosstab(y_test,y_pred))\n",
    "print(classification_report(y_test, y_pred))"
   ]
  },
  {
   "cell_type": "code",
   "execution_count": null,
   "metadata": {
    "deletable": false,
    "editable": false,
    "function": "solution"
   },
   "outputs": [],
   "source": [
    "from sklearn.ensemble import RandomForestClassifier\n",
    "\n",
    "rf = RandomForestClassifier()\n",
    "rf.fit(X_ro, y_ro)\n",
    "\n",
    "print('Score sur ensemble train', rf.score(X_ro, y_ro))\n",
    "print('Score sur ensemble test', rf.score(X_test, y_test))\n",
    "\n",
    "from sklearn.metrics import classification_report\n",
    "\n",
    "y_pred = rf.predict(X_test)\n",
    "\n",
    "\n",
    "display(pd.crosstab(y_test,y_pred))\n",
    "print(classification_report(y_test, y_pred))\n"
   ]
  },
  {
   "cell_type": "markdown",
   "metadata": {
    "deletable": false,
    "editable": false,
    "run_control": {
     "frozen": true
    }
   },
   "source": [
    "\n",
    ">On observe que le ré-échantillonnage a permis d'augmenter légèrement la **précision**, le **rappel** et le **f1-score** pour la classe 1. Bien que dans notre cas, l'amélioration n'est pas significative, nous pouvons dire qu'un rééquilibrage peut effectivement donner de meilleurs résultats sur la classe sous-représentée.\n",
    "\n",
    "<h3> 5. Conclusion </h3>\n",
    "\n",
    ">A partir d'une problématique métier, nous avons modélisé le probléme et entrainé des algorithmes de classification pour y répondre.\n",
    ">\n",
    ">Nous avons donc créé un algorithme capable de prédire **la résiliation des contrats des clients d'une entreprise**. Grâce à cela, l'entreprise pourra cibler les clients susceptibles de départ et agir pour éviter une potentielle résiliation.\n",
    ">\n",
    ">La **RandomForest** donne les meilleurs résultats. Pour aller plus loin, nous pourrions essayer d'optimiser les paramètres de chacun des modèles afin d'avoir le meilleur score possible tout en tentant de réduire le sur-apprentissage. \n",
    ">\n",
    "> <h4> 5.1 A retenir </h4>\n",
    ">\n",
    "> * L'étape de pre-processing et d'exploration du jeu de données est essentielle avant de passer à la partie modélisation.\n",
    ">\n",
    "> *  Toutes les modifications de votre jeu de données se font après la séparation du jeu de données d'entraînement et de test pour ne pas ajouter de biais à votre entraînement.\n",
    ">\n",
    "> * A chaque fois que l'on entraîne un algorithme de **Machine Learning** en classification, on affiche par la suite sa **matrice de confusion** et son **`classification_report`** pour analyser les résultats. \n",
    ">\n",
    ">\n",
    "> <h4> 5.2 Et après ? </h4>\n",
    ">\n",
    "> Dans le prochain notebook, nous verrons de manière parallèle la mise en pratique d'algorithmes de régression.\n",
    "\n",
    "\n",
    "\n",
    "<h3> 6. Bonus : la pipeline Scikit-Learn </h3>\n",
    "\n",
    "> Vous avez vu dans le notebook 4 les pipelines **Scikit-Learn** : elles permettent de **condenser le code** et de **centraliser** toutes les opérations de transformation.  \n",
    "> \n",
    "> Voici un exemple : \n",
    ">\n",
    "\n",
    "* **(a)** Exécuter la cellule suivante pour entraîner la **pipeline** et afficher le résultat.\n",
    "\n",
    "\n"
   ]
  },
  {
   "cell_type": "code",
   "execution_count": 29,
   "metadata": {
    "deletable": false,
    "editable": false
   },
   "outputs": [
    {
     "name": "stdout",
     "output_type": "stream",
     "text": [
      "model score: 0.786\n"
     ]
    }
   ],
   "source": [
    "numeric_features = ['tenure', 'MonthlyCharges', 'TotalCharges']\n",
    "\n",
    "# Pipeline pour le traitement des valeurs numériques \n",
    "numeric_transformer = Pipeline(\n",
    "    steps=[(\"imputer\", SimpleImputer(missing_values=np.nan, strategy=\"median\")), \n",
    "           (\"scaler\", StandardScaler())]\n",
    ")\n",
    "\n",
    "# Traitement des variables catégorielles \n",
    "categorical_features = ['gender', 'Partner', 'Dependents', 'PhoneService', 'PaperlessBilling']\n",
    "categorical_transformer = OneHotEncoder(drop = \"first\", sparse=False)\n",
    "\n",
    "\n",
    "#Column Tranformer pour appliquer les transformations sur certaines colonnes\n",
    "preprocessor = ColumnTransformer(\n",
    "    transformers=[\n",
    "        (\"num\", numeric_transformer, numeric_features),\n",
    "        (\"cat\", categorical_transformer, categorical_features),\n",
    "    ]\n",
    ")\n",
    "\n",
    "#Pipeline final de regroupement\n",
    "clf = Pipeline(\n",
    "    steps=[(\"preprocessor\", preprocessor), \n",
    "           (\"classifier\", LogisticRegression())]\n",
    ")\n",
    "\n",
    "X_train, X_test, y_train, y_test = train_test_split(feats, target, test_size=0.25, random_state = 42)\n",
    "\n",
    "clf.fit(X_train, y_train)\n",
    "\n",
    "print(\"model score: %.3f\" % clf.score(X_test, y_test))\n"
   ]
  },
  {
   "cell_type": "markdown",
   "metadata": {
    "deletable": false,
    "editable": false,
    "run_control": {
     "frozen": true
    }
   },
   "source": [
    "\n",
    "> La première **`Pipeline`** `numeric_transformer` traite les valeurs numériques : \n",
    "> * remplacement des valeurs manquantes avec un `SimpleImputer`, \n",
    "> * standardisation avec un `StandardScaler`.\n",
    ">\n",
    ">Le **`ColumnTranformer`** `preprocessor` permet de spécifier que les opérations vont s'effectuer uniquement sur certaines colonnes: \n",
    "> * Un `SimpleImputer` et un `StandardScaler` sur les variables `'tenure'`, `'MonthlyCharges'` et `'TotalCharges'`,\n",
    "> * Un `OneHotEncoder` sur les variables `'gender'`, `'Partner'`, `'Dependents'`, `'PhoneService'` et `'PaperlessBilling'`, \n",
    ">\n",
    ">La **`Pipeline`** `clf` permet de rassembler ses transformations et d'entraîner un modèle de classification, ici la `LogisticRegression`. \n",
    ">\n",
    "><div class=\"alert alert-success\">\n",
    "<i class=\"fa fa-question-circle\"></i> &emsp; Le premier argument de chacune des transformations : \"num\", \"cat\", \"preprocessor\",\"classifier\" est libre. Vous pouvez mettre ce que vous souhaitez, cela permet uniquement de se retrouver plus facilement dans les différentes étapes. </div>\n",
    "</div>\n",
    "\n"
   ]
  }
 ],
 "metadata": {
  "celltoolbar": "Format de la Cellule Texte Brut",
  "hide_input": false,
  "kernelspec": {
   "display_name": "Python 3",
   "language": "python",
   "name": "python3"
  },
  "language_info": {
   "codemirror_mode": {
    "name": "ipython",
    "version": 3
   },
   "file_extension": ".py",
   "mimetype": "text/x-python",
   "name": "python",
   "nbconvert_exporter": "python",
   "pygments_lexer": "ipython3",
   "version": "3.9.13"
  },
  "latex_envs": {
   "LaTeX_envs_menu_present": true,
   "autoclose": false,
   "autocomplete": true,
   "bibliofile": "biblio.bib",
   "cite_by": "apalike",
   "current_citInitial": 1,
   "eqLabelWithNumbers": true,
   "eqNumInitial": 1,
   "hotkeys": {
    "equation": "Ctrl-E",
    "itemize": "Ctrl-I"
   },
   "labels_anchors": false,
   "latex_user_defs": false,
   "report_style_numbering": false,
   "user_envs_cfg": false
  },
  "nbTranslate": {
   "displayLangs": [
    "*"
   ],
   "hotkey": "alt-t",
   "langInMainMenu": true,
   "sourceLang": "en",
   "targetLang": "fr",
   "useGoogleTranslate": true
  },
  "owner": "DataScientest"
 },
 "nbformat": 4,
 "nbformat_minor": 2
}
