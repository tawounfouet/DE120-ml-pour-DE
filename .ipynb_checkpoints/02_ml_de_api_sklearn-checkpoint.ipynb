{
 "cells": [
  {
   "cell_type": "markdown",
   "metadata": {
    "deletable": false,
    "editable": false,
    "run_control": {
     "frozen": true
    }
   },
   "source": [
    "\n",
    "\n",
    "<img src=\"https://assets-datascientest.s3-eu-west-1.amazonaws.com/train/logo_datascientest.png\" style=\"height:150px\">\n",
    "<hr style=\"border-width:2px;border-color:#75DFC1\">\n",
    "<center><h1> Machine Learning pour les Data Engineers </h1></center>\n",
    "<center><h2> Introduction à l'API Scikit-Learn </h2></center>\n",
    "<hr style=\"border-width:2px;border-color:#75DFC1\">\n",
    "\n",
    "### 1. Introduction\n",
    "\n",
    "> Nous venons de voir les bases du **Machine Learning** à savoir :\n",
    ">\n",
    ">* Quelle est la différence entre l'**apprentissage supervisé** et **non supervisé** ? <br><br>\n",
    ">* Quelle est la différence entre la **régression** et la **classification** ? <br><br>\n",
    ">* Qu'est-ce qu'une **variable cible** ? des **variables explicatives** ? <br><br>\n",
    ">* Qu'est-ce que la technique de **Hold out** ? \n",
    ">\n",
    ">\n",
    ">Nous allons voir dans ce notebook comment implémenter un modèle de base de **Machine Learning** en **classification** et en **régression** avec la librairie **Scikit-Learn**. \n",
    ">\n",
    "> L'objectif de ce notebook est de :\n",
    ">\n",
    ">* Comprendre l'utilité et la puissance de **Scikit-Learn** ; <br><br>\n",
    ">* Entraîner un modèle de classification avec **Scikit-Learn** ; <br><br>\n",
    ">* Entraîner un modèle de régression avec **Scikit-Learn**.\n",
    ">\n",
    "> #### 1.1 Scikit-Learn\n",
    ">\n",
    "> **Scikit-Learn** est une librairie Python construite à partir de **NumPy**, **Scipy** et **matplotlib** pour entrainer des modèles de **Machine Learning** le plus simplement possible. Chaque modèle dispose de sa propre classe qu'il faut instancier pour créer un modèle. \n",
    ">\n",
    ">Toutes les classes de modèles de **Scikit-Learn** disposent des trois méthodes suivantes:\n",
    ">\n",
    ">* **`fit`** : Entraîne le modèle sur un jeu de données.<br><br>\n",
    ">* **`predict`** : Effectue une prédiction à partir de variables explicatives.<br><br>\n",
    ">* **`score`** : Calcule une métrique de performance du modèle en comparant les vraies valeurs de la variable cible à la prédiction.\n",
    ">\n",
    ">Ainsi pour entraîner un modèle de **Machine Learning** avec **Scikit-Learn**, cela se fera toujours de la même manière, en 4 lignes de code : \n",
    ">\n",
    ">```python \n",
    ">\n",
    "># Instanciation du modèle choisi  \n",
    "># Pour créer un modèle, on génère un objet de la classe correspondante à cet objet\n",
    "># LinearRegression est un algorithme de régression\n",
    "># On peut spécifier certains paramètres de l'algorithme entre les parenthèses  \n",
    ">\n",
    ">model = LinearRegression() \n",
    ">\n",
    "># Entrainement du modèle sur le jeu de données d'entraînement\n",
    ">\n",
    ">model.fit(X_train,y_train) \n",
    ">\n",
    "># Prédiction de la variable cible pour le jeu de données test, ces prédictions sont stockées dans y_pred\n",
    ">\n",
    ">y_pred = model.predict(X_test) \n",
    ">\n",
    "># Evaluation du modèle : à partir de X_test, on prédit la variable cible que l'on compare à y_test\n",
    ">\n",
    ">model.score(X_test,y_test)\n",
    ">```\n",
    ">\n",
    ">Que ce soit pour développer un algorithme de classification ou de régression, cela se fera quasiment toujours de la même manière.\n",
    ">\n",
    "### 2. Classification \n",
    ">\n",
    "> #### 2.1 Rappel \n",
    ">\n",
    ">En **Machine Learning**, l'objectif est de prédire la valeur d'une **variable cible** à partir de **variables explicatives**.  Dans un problème de **classification**, la **variable cible** prend des **valeurs discrètes**. Ces valeurs peuvent être numériques ou littérale mais dans les deux cas, la variable cible prend un **nombre fini de valeurs**. \n",
    ">\n",
    ">Les différentes valeurs prises par la variable cible sont ce qu'on appelle des **classes**.\n",
    ">\n",
    ">L'objectif de la classification est donc de prédire la classe d'une observation à partir de **ses variables explicatives**.\n",
    ">\n",
    ">\n",
    "> <img src=\"https://assets-datascientest.s3.eu-west-1.amazonaws.com/notebooks/module_da_121/notebook_api_scikit_learn/classification.png\" style = 'height:350px'>\n",
    ">\n",
    "> #### 2.2 Mise en pratique \n",
    ">\n",
    ">L'exercice suivant porte sur un jeu de données qui a pour objectif de prédire si un patient est diabétique ou non en fonction de certaines mesures médicales. A noter que plusieurs contraintes ont été imposées dans ce jeu de données : tous les patients sont des femmes âgées d'au moins 21 ans et d'origine indienne Pima. \n",
    "> \n",
    ">Voici le descriptif des données : \n",
    "> \n",
    "> |Variable | Description|\n",
    "> |----------|------------|\n",
    "> |`'Pregnancies'`|Nombre de grossesses|\n",
    "> |`'Glucose'`| Concentration plasmatique de glucose|\n",
    "> |`'BloodPressure'`| Tension artérielle|\n",
    "> |`'SkinThickness'`| Épaisseur du pli du triceps|\n",
    "> |`'Insulin'`| Insuline sérique à 2 heures|\n",
    "> |`'BMI'`| Indice de masse corporelle |\n",
    "> |`'DiabetesPedigreeFunction'`| Fonction pédigrée du diabète |\n",
    "> |`'Age'`| Age|\n",
    "> |`'Outcome'`| 0 si la patiente n'a pas le diabète, 1 sinon|\n",
    ">\n",
    "> L'objectif de cette classification va être donc de **prédire si une patiente va être atteinte de diabète ou non**.\n",
    "\n",
    "* **(a)** Exécutez la celulle suivante pour initialiser le notebook et charger la librairie pandas sous son alias usuel.\n",
    "\n"
   ]
  },
  {
   "cell_type": "code",
   "execution_count": 2,
   "metadata": {
    "deletable": false,
    "editable": false
   },
   "outputs": [],
   "source": [
    "import warnings\n",
    "warnings.filterwarnings('ignore')\n",
    "\n",
    "import pandas as pd \n"
   ]
  },
  {
   "cell_type": "markdown",
   "metadata": {
    "deletable": false,
    "editable": false,
    "run_control": {
     "frozen": true
    }
   },
   "source": [
    "\n",
    "* **(b)** Lire le fichier `'diabetes.csv'` dans un `DataFrame` appelé **`df_class`** et afficher les cinq premières lignes du `DataFrame`.\n",
    "\n"
   ]
  },
  {
   "cell_type": "code",
   "execution_count": 4,
   "metadata": {},
   "outputs": [
    {
     "name": "stdout",
     "output_type": "stream",
     "text": [
      "(768, 9)\n"
     ]
    },
    {
     "data": {
      "text/html": [
       "<div>\n",
       "<style scoped>\n",
       "    .dataframe tbody tr th:only-of-type {\n",
       "        vertical-align: middle;\n",
       "    }\n",
       "\n",
       "    .dataframe tbody tr th {\n",
       "        vertical-align: top;\n",
       "    }\n",
       "\n",
       "    .dataframe thead th {\n",
       "        text-align: right;\n",
       "    }\n",
       "</style>\n",
       "<table border=\"1\" class=\"dataframe\">\n",
       "  <thead>\n",
       "    <tr style=\"text-align: right;\">\n",
       "      <th></th>\n",
       "      <th>Pregnancies</th>\n",
       "      <th>Glucose</th>\n",
       "      <th>BloodPressure</th>\n",
       "      <th>SkinThickness</th>\n",
       "      <th>Insulin</th>\n",
       "      <th>BMI</th>\n",
       "      <th>DiabetesPedigreeFunction</th>\n",
       "      <th>Age</th>\n",
       "      <th>Outcome</th>\n",
       "    </tr>\n",
       "  </thead>\n",
       "  <tbody>\n",
       "    <tr>\n",
       "      <th>0</th>\n",
       "      <td>6</td>\n",
       "      <td>148</td>\n",
       "      <td>72</td>\n",
       "      <td>35</td>\n",
       "      <td>0</td>\n",
       "      <td>33.6</td>\n",
       "      <td>0.627</td>\n",
       "      <td>50</td>\n",
       "      <td>1</td>\n",
       "    </tr>\n",
       "    <tr>\n",
       "      <th>1</th>\n",
       "      <td>1</td>\n",
       "      <td>85</td>\n",
       "      <td>66</td>\n",
       "      <td>29</td>\n",
       "      <td>0</td>\n",
       "      <td>26.6</td>\n",
       "      <td>0.351</td>\n",
       "      <td>31</td>\n",
       "      <td>0</td>\n",
       "    </tr>\n",
       "    <tr>\n",
       "      <th>2</th>\n",
       "      <td>8</td>\n",
       "      <td>183</td>\n",
       "      <td>64</td>\n",
       "      <td>0</td>\n",
       "      <td>0</td>\n",
       "      <td>23.3</td>\n",
       "      <td>0.672</td>\n",
       "      <td>32</td>\n",
       "      <td>1</td>\n",
       "    </tr>\n",
       "    <tr>\n",
       "      <th>3</th>\n",
       "      <td>1</td>\n",
       "      <td>89</td>\n",
       "      <td>66</td>\n",
       "      <td>23</td>\n",
       "      <td>94</td>\n",
       "      <td>28.1</td>\n",
       "      <td>0.167</td>\n",
       "      <td>21</td>\n",
       "      <td>0</td>\n",
       "    </tr>\n",
       "    <tr>\n",
       "      <th>4</th>\n",
       "      <td>0</td>\n",
       "      <td>137</td>\n",
       "      <td>40</td>\n",
       "      <td>35</td>\n",
       "      <td>168</td>\n",
       "      <td>43.1</td>\n",
       "      <td>2.288</td>\n",
       "      <td>33</td>\n",
       "      <td>1</td>\n",
       "    </tr>\n",
       "  </tbody>\n",
       "</table>\n",
       "</div>"
      ],
      "text/plain": [
       "   Pregnancies  Glucose  BloodPressure  SkinThickness  Insulin   BMI  \\\n",
       "0            6      148             72             35        0  33.6   \n",
       "1            1       85             66             29        0  26.6   \n",
       "2            8      183             64              0        0  23.3   \n",
       "3            1       89             66             23       94  28.1   \n",
       "4            0      137             40             35      168  43.1   \n",
       "\n",
       "   DiabetesPedigreeFunction  Age  Outcome  \n",
       "0                     0.627   50        1  \n",
       "1                     0.351   31        0  \n",
       "2                     0.672   32        1  \n",
       "3                     0.167   21        0  \n",
       "4                     2.288   33        1  "
      ]
     },
     "execution_count": 4,
     "metadata": {},
     "output_type": "execute_result"
    }
   ],
   "source": [
    "# Insérez votre code ici\n",
    "\n",
    "\n",
    "\n",
    "df_class = pd.read_csv('diabetes.csv')\n",
    "print(df_class.shape)\n",
    "df_class.head()"
   ]
  },
  {
   "cell_type": "code",
   "execution_count": null,
   "metadata": {
    "deletable": false,
    "editable": false,
    "function": "solution"
   },
   "outputs": [],
   "source": [
    "df_class = pd.read_csv('diabetes.csv')\n",
    "\n",
    "df_class.head()\n",
    "\n"
   ]
  },
  {
   "cell_type": "markdown",
   "metadata": {
    "deletable": false,
    "editable": false,
    "run_control": {
     "frozen": true
    }
   },
   "source": [
    "\n",
    "\n",
    "* **(c)** Afficher les informations du `DataFrame` **`df_class`**.\n",
    "\n",
    "\n",
    "\n"
   ]
  },
  {
   "cell_type": "code",
   "execution_count": 10,
   "metadata": {},
   "outputs": [
    {
     "name": "stdout",
     "output_type": "stream",
     "text": [
      "Columns :  ['Pregnancies', 'Glucose', 'BloodPressure', 'SkinThickness', 'Insulin', 'BMI', 'DiabetesPedigreeFunction', 'Age', 'Outcome']\n",
      "\n",
      "<class 'pandas.core.frame.DataFrame'>\n",
      "RangeIndex: 768 entries, 0 to 767\n",
      "Data columns (total 9 columns):\n",
      " #   Column                    Non-Null Count  Dtype  \n",
      "---  ------                    --------------  -----  \n",
      " 0   Pregnancies               768 non-null    int64  \n",
      " 1   Glucose                   768 non-null    int64  \n",
      " 2   BloodPressure             768 non-null    int64  \n",
      " 3   SkinThickness             768 non-null    int64  \n",
      " 4   Insulin                   768 non-null    int64  \n",
      " 5   BMI                       768 non-null    float64\n",
      " 6   DiabetesPedigreeFunction  768 non-null    float64\n",
      " 7   Age                       768 non-null    int64  \n",
      " 8   Outcome                   768 non-null    int64  \n",
      "dtypes: float64(2), int64(7)\n",
      "memory usage: 54.1 KB\n"
     ]
    }
   ],
   "source": [
    "# Insérez votre code ici\n",
    "print(\"Columns : \", df_class.columns.to_list())\n",
    "print()\n",
    "df_class.info()"
   ]
  },
  {
   "cell_type": "code",
   "execution_count": null,
   "metadata": {
    "deletable": false,
    "editable": false,
    "function": "solution"
   },
   "outputs": [],
   "source": [
    "df_class.info()\n",
    "\n"
   ]
  },
  {
   "cell_type": "markdown",
   "metadata": {
    "deletable": false,
    "editable": false,
    "run_control": {
     "frozen": true
    }
   },
   "source": [
    "\n",
    "\n",
    ">Le dataset est très propre : il n'y a pas de valeurs manquantes et les types sont bons. A noter, que c'est très rarement le cas : habituellement une phase de *pre-processing* est essentielle avant la partie **modélisation**. La prochaine étape va être d'identifier la **variable cible** et les **variables explicatives**. \n",
    ">\n",
    ">Pour rappel, on cherche à **prédire si une patiente va être atteinte de diabète ou non** en fonction de caractéristiques médicales. Donc, ici la **variable cible** est **`Outcome`** qui prend un nombre **fini** de valeurs (0 ou 1) : on est bien dans un problème de **classification**.\n",
    "\n",
    "* **(d)** \n",
    "\n",
    "    * (1) Dans un **`DataFrame`** nommé **`X`**, stocker les variables explicatives du jeu de données (toutes\n",
    "    sauf la colonne **`Outcome`**). Pour cela, vous pourrez vous aider de la méthode `drop` d'un **`DataFrame`**. <br><br>\n",
    "    * (2) Dans un objet nommé **`y`**, stocker la variable cible **`Outcome`**. \n",
    "\n",
    "\n",
    "\n"
   ]
  },
  {
   "cell_type": "code",
   "execution_count": 20,
   "metadata": {},
   "outputs": [
    {
     "data": {
      "text/html": [
       "<div>\n",
       "<style scoped>\n",
       "    .dataframe tbody tr th:only-of-type {\n",
       "        vertical-align: middle;\n",
       "    }\n",
       "\n",
       "    .dataframe tbody tr th {\n",
       "        vertical-align: top;\n",
       "    }\n",
       "\n",
       "    .dataframe thead th {\n",
       "        text-align: right;\n",
       "    }\n",
       "</style>\n",
       "<table border=\"1\" class=\"dataframe\">\n",
       "  <thead>\n",
       "    <tr style=\"text-align: right;\">\n",
       "      <th></th>\n",
       "      <th>Pregnancies</th>\n",
       "      <th>Glucose</th>\n",
       "      <th>BloodPressure</th>\n",
       "      <th>SkinThickness</th>\n",
       "      <th>Insulin</th>\n",
       "      <th>BMI</th>\n",
       "      <th>DiabetesPedigreeFunction</th>\n",
       "      <th>Age</th>\n",
       "    </tr>\n",
       "  </thead>\n",
       "  <tbody>\n",
       "    <tr>\n",
       "      <th>0</th>\n",
       "      <td>6</td>\n",
       "      <td>148</td>\n",
       "      <td>72</td>\n",
       "      <td>35</td>\n",
       "      <td>0</td>\n",
       "      <td>33.6</td>\n",
       "      <td>0.627</td>\n",
       "      <td>50</td>\n",
       "    </tr>\n",
       "    <tr>\n",
       "      <th>1</th>\n",
       "      <td>1</td>\n",
       "      <td>85</td>\n",
       "      <td>66</td>\n",
       "      <td>29</td>\n",
       "      <td>0</td>\n",
       "      <td>26.6</td>\n",
       "      <td>0.351</td>\n",
       "      <td>31</td>\n",
       "    </tr>\n",
       "    <tr>\n",
       "      <th>2</th>\n",
       "      <td>8</td>\n",
       "      <td>183</td>\n",
       "      <td>64</td>\n",
       "      <td>0</td>\n",
       "      <td>0</td>\n",
       "      <td>23.3</td>\n",
       "      <td>0.672</td>\n",
       "      <td>32</td>\n",
       "    </tr>\n",
       "    <tr>\n",
       "      <th>3</th>\n",
       "      <td>1</td>\n",
       "      <td>89</td>\n",
       "      <td>66</td>\n",
       "      <td>23</td>\n",
       "      <td>94</td>\n",
       "      <td>28.1</td>\n",
       "      <td>0.167</td>\n",
       "      <td>21</td>\n",
       "    </tr>\n",
       "    <tr>\n",
       "      <th>4</th>\n",
       "      <td>0</td>\n",
       "      <td>137</td>\n",
       "      <td>40</td>\n",
       "      <td>35</td>\n",
       "      <td>168</td>\n",
       "      <td>43.1</td>\n",
       "      <td>2.288</td>\n",
       "      <td>33</td>\n",
       "    </tr>\n",
       "  </tbody>\n",
       "</table>\n",
       "</div>"
      ],
      "text/plain": [
       "   Pregnancies  Glucose  BloodPressure  SkinThickness  Insulin   BMI  \\\n",
       "0            6      148             72             35        0  33.6   \n",
       "1            1       85             66             29        0  26.6   \n",
       "2            8      183             64              0        0  23.3   \n",
       "3            1       89             66             23       94  28.1   \n",
       "4            0      137             40             35      168  43.1   \n",
       "\n",
       "   DiabetesPedigreeFunction  Age  \n",
       "0                     0.627   50  \n",
       "1                     0.351   31  \n",
       "2                     0.672   32  \n",
       "3                     0.167   21  \n",
       "4                     2.288   33  "
      ]
     },
     "metadata": {},
     "output_type": "display_data"
    },
    {
     "name": "stdout",
     "output_type": "stream",
     "text": [
      "\n",
      "\n"
     ]
    },
    {
     "data": {
      "text/plain": [
       "0    1\n",
       "1    0\n",
       "2    1\n",
       "3    0\n",
       "4    1\n",
       "Name: Outcome, dtype: int64"
      ]
     },
     "metadata": {},
     "output_type": "display_data"
    }
   ],
   "source": [
    "# Insérez votre code ici\n",
    "\n",
    "\n",
    "X = df_class.drop('Outcome', axis = 1)\n",
    "\n",
    "y = df_class['Outcome']\n",
    "\n",
    "display(X.head(5))\n",
    "print(\"\\n\")\n",
    "display(y.head(5))"
   ]
  },
  {
   "cell_type": "code",
   "execution_count": null,
   "metadata": {
    "deletable": false,
    "editable": false,
    "function": "solution"
   },
   "outputs": [],
   "source": [
    "X = df_class.drop('Outcome', axis = 1)\n",
    "\n",
    "y = df_class['Outcome']\n",
    "\n"
   ]
  },
  {
   "cell_type": "markdown",
   "metadata": {
    "deletable": false,
    "editable": false,
    "run_control": {
     "frozen": true
    }
   },
   "source": [
    "\n",
    "\n",
    "> Comme expliqué dans le notebook précédent, nous allons maintenant devoir séparer le jeu de données en 2 parties : \n",
    ">* Le **jeu d'entrainement** qui sert à entraîner le modèle de classification, c'est-à-dire à trouver les paramètres du modèle qui séparent au mieux les classes.\n",
    ">\n",
    ">\n",
    ">* Le **jeu de test** qui sert à évaluer le modèle sur des données qu'il n'a jamais vu. Cette évaluation nous permettra de juger sur la capacité à généraliser le modèle.\n",
    ">\n",
    ">Une fonction très utile pour effectuer cette opération est la fonction `train_test_split` du sous-module `sklearn.model_selection`.\n",
    "\n",
    "* **(e)** Lancer la cellule suivante pour importer la fonction `train_test_split`.\n",
    "\n",
    "\n",
    "\n"
   ]
  },
  {
   "cell_type": "code",
   "execution_count": null,
   "metadata": {
    "deletable": false,
    "editable": false
   },
   "outputs": [],
   "source": [
    "from sklearn.model_selection import train_test_split\n",
    "\n"
   ]
  },
  {
   "cell_type": "markdown",
   "metadata": {
    "deletable": false,
    "editable": false,
    "run_control": {
     "frozen": true
    }
   },
   "source": [
    "\n",
    "\n",
    ">Cette fonction s'utilise ainsi :\n",
    ">\n",
    ">```python  \n",
    "> from sklearn.model_selection import train_test_split\n",
    ">\n",
    ">X_train, X_test, y_train, y_test = train_test_split(X, y, test_size = 0.15, random_state=42)\n",
    ">```\n",
    ">* **`X_train`** et **`y_train`** sont les variables explicatives et cible du **jeu de données d'entraînement**.<br><br>\n",
    ">* **`X_test`** et **`y_test`** sont les variables explicatives et cible du **jeu de données de test**.<br><br>\n",
    ">* L'argument **`test_size`** correspond à la proportion du jeu de données que nous voulons garder pour **le jeu de test**. Dans l'exemple précédent, cette proportion correspond à 15% du jeu de données initial. <br><br>\n",
    "> * L'argument **`random_state`** permet de garantir que la reproductibilité des résultats en fixant l'aléa. En d'autres termes, en le fixant à un nombre (peu importe sa valeur), on s'assure d'obtenir le même résultat si on utilise à nouveau la fonction.\n",
    "\n",
    "* **(f)** À l'aide de la fonction **`train_test_split`**, séparer le jeu de données en un jeu d'entrainement (**`X_train`**,**`y_train`**) et un jeu de test (**`X_test`**, **`y_test`**) de sorte que la partie de test contienne 20% du jeu de données initial.\n",
    "\n"
   ]
  },
  {
   "cell_type": "code",
   "execution_count": 27,
   "metadata": {},
   "outputs": [
    {
     "name": "stdout",
     "output_type": "stream",
     "text": [
      "*----------Data Shape---------------*\n",
      "\n",
      "X_train Shape :(614, 8)\n",
      "y_train Shape :(614,)\n",
      "\n",
      "\n",
      "X_Test Shape :(154, 8)\n",
      "y_test Shape :(154,)\n"
     ]
    }
   ],
   "source": [
    "# Insérez votre code ici\n",
    "\n",
    "\n",
    "from sklearn.model_selection import train_test_split\n",
    "\n",
    "X_train, X_test, y_train, y_test = train_test_split(X, y, test_size = 0.2, random_state=42)\n",
    "\n",
    "print(\"*----------Data Shape---------------*\\n\")\n",
    "print(f'X_train Shape :{X_train.shape}')\n",
    "print(f'y_train Shape :{y_train.shape}')\n",
    "print(\"\\n\")\n",
    "print(f'X_Test Shape :{X_test.shape}')\n",
    "print(f'y_test Shape :{y_test.shape}')"
   ]
  },
  {
   "cell_type": "code",
   "execution_count": null,
   "metadata": {
    "deletable": false,
    "editable": false,
    "function": "solution"
   },
   "outputs": [],
   "source": [
    "from sklearn.model_selection import train_test_split\n",
    "\n",
    "X_train, X_test, y_train, y_test = train_test_split(X, y, test_size = 0.2, random_state=42)\n",
    "\n"
   ]
  },
  {
   "cell_type": "markdown",
   "metadata": {
    "deletable": false,
    "editable": false,
    "run_control": {
     "frozen": true
    }
   },
   "source": [
    "\n",
    "\n",
    "> Nous pouvons maintenant passer à la partie **modélisation**. \n",
    ">\n",
    ">Pour cela, nous allons entraîner un **arbre de décision**, c'est un algorithme simple qui ne nécessite aucun pré-traitement sur le jeu de données. Vous verrez plus en profondeur son fonctionnement dans le prochain notebook, gardez seulement à l'idée que : **l'arbre de décision est un algorithme de Machine Learning pour entraîner un modèle de classification disponible sur Scikit Learn.** \n",
    "\n",
    " \n",
    "* **(g)** Charger la fonction **`DecisionTreeClassifier`** à partir du sous-module **`sklearn.tree`**.\n",
    "\n"
   ]
  },
  {
   "cell_type": "code",
   "execution_count": 28,
   "metadata": {},
   "outputs": [],
   "source": [
    "# Insérez votre code ici\n",
    "\n",
    "\n",
    "\n",
    "from sklearn.tree import DecisionTreeClassifier\n"
   ]
  },
  {
   "cell_type": "code",
   "execution_count": null,
   "metadata": {
    "deletable": false,
    "editable": false,
    "function": "solution"
   },
   "outputs": [],
   "source": [
    "from sklearn.tree import DecisionTreeClassifier\n",
    "\n"
   ]
  },
  {
   "cell_type": "markdown",
   "metadata": {
    "deletable": false,
    "editable": false,
    "run_control": {
     "frozen": true
    }
   },
   "source": [
    "\n",
    "\n",
    ">Pour entrainer un algorithme de **Machine Learning**, cela se fera toujours de la même manière comme vu plus haut.\n",
    "\n",
    "* **(h)**\n",
    "\n",
    "    * **(1)** Instancier un modèle **`DecisionTreeClassifier`** appelée **`dt_clf`** avec l'argument **`random_state=42`** . <br><br>\n",
    "\n",
    "    * **(2)** Entrainer le modèle sur le jeu de données d'entrainement grâce à la méthode **`fit`** de la classe **`DecisionTreeClassifier`**.\n",
    "\n"
   ]
  },
  {
   "cell_type": "code",
   "execution_count": 29,
   "metadata": {},
   "outputs": [
    {
     "data": {
      "text/plain": [
       "DecisionTreeClassifier(random_state=42)"
      ]
     },
     "execution_count": 29,
     "metadata": {},
     "output_type": "execute_result"
    }
   ],
   "source": [
    "# Insérez votre code ici\n",
    "\n",
    "#Instanciation du modèle \n",
    "dt_clf = DecisionTreeClassifier(random_state=42)\n",
    "\n",
    "#Entrainement de modèle \n",
    "dt_clf.fit(X_train, y_train)"
   ]
  },
  {
   "cell_type": "code",
   "execution_count": null,
   "metadata": {
    "deletable": false,
    "editable": false,
    "function": "solution"
   },
   "outputs": [],
   "source": [
    "#Instanciation du modèle \n",
    "dt_clf = DecisionTreeClassifier(random_state=42)\n",
    "\n",
    "#Entrainement de modèle \n",
    "dt_clf.fit(X_train, y_train)\n",
    "\n"
   ]
  },
  {
   "cell_type": "markdown",
   "metadata": {
    "deletable": false,
    "editable": false,
    "run_control": {
     "frozen": true
    }
   },
   "source": [
    "\n",
    "\n",
    "* **(i)**\n",
    "\n",
    "    * **(1)** Effectuer une prédiction sur les données de test et stocker ces prédictions dans **`y_pred_test`**.<br><br>\n",
    "    * **(2)** Afficher les 5 premières prédictions. \n",
    "\n",
    "\n",
    "\n"
   ]
  },
  {
   "cell_type": "code",
   "execution_count": 30,
   "metadata": {},
   "outputs": [
    {
     "name": "stdout",
     "output_type": "stream",
     "text": [
      "[1 0 0 0 0]\n"
     ]
    }
   ],
   "source": [
    "# Insérez votre code ici\n",
    "\n",
    "\n",
    "#Prediction sur les donnees de test \n",
    "y_pred_test = dt_clf.predict(X_test)\n",
    "\n",
    "print(y_pred_test[:5])"
   ]
  },
  {
   "cell_type": "code",
   "execution_count": null,
   "metadata": {
    "deletable": false,
    "editable": false,
    "function": "solution"
   },
   "outputs": [],
   "source": [
    "#Prediction sur les donnees de test \n",
    "y_pred_test = dt_clf.predict(X_test)\n",
    "\n",
    "print(y_pred_test[:5])\n",
    "\n"
   ]
  },
  {
   "cell_type": "markdown",
   "metadata": {
    "deletable": false,
    "editable": false,
    "run_control": {
     "frozen": true
    }
   },
   "source": [
    "\n",
    "\n",
    "* **(j)** Afficher les 5 premières lignes de `y_test` et les comparer à `y_pred_test`.\n",
    "\n",
    "\n",
    "\n"
   ]
  },
  {
   "cell_type": "code",
   "execution_count": 33,
   "metadata": {},
   "outputs": [
    {
     "data": {
      "text/plain": [
       "668    0\n",
       "324    0\n",
       "624    0\n",
       "690    0\n",
       "473    0\n",
       "Name: Outcome, dtype: int64"
      ]
     },
     "metadata": {},
     "output_type": "display_data"
    },
    {
     "data": {
      "text/plain": [
       "668    False\n",
       "324     True\n",
       "624     True\n",
       "690     True\n",
       "473     True\n",
       "Name: Outcome, dtype: bool"
      ]
     },
     "metadata": {},
     "output_type": "display_data"
    }
   ],
   "source": [
    "# Insérez votre code ici\n",
    "\n",
    "\n",
    "display(y_test[:5])\n",
    "\n",
    "#Comparaison entre y_test et y_pred_test : \n",
    "#True :  l'algorithme a prédit la bonne classe, \n",
    "#False : il s'est trompé\n",
    "\n",
    "display(y_test[:5] == y_pred_test[:5])"
   ]
  },
  {
   "cell_type": "code",
   "execution_count": null,
   "metadata": {
    "deletable": false,
    "editable": false,
    "function": "solution"
   },
   "outputs": [],
   "source": [
    "print(y_test[:5])\n",
    "\n",
    "#Comparaison entre y_test et y_pred_test : \n",
    "#True :  l'algorithme a prédit la bonne classe, \n",
    "#False : il s'est trompé\n",
    "\n",
    "print(y_test[:5] == y_pred_test[:5])\n",
    "\n"
   ]
  },
  {
   "cell_type": "markdown",
   "metadata": {
    "deletable": false,
    "editable": false,
    "run_control": {
     "frozen": true
    }
   },
   "source": [
    "\n",
    "\n",
    "* **(k)**\n",
    "\n",
    "    * **(1)** Évaluer le modèle à l'aide de la méthode `score` sur les données d'entraînement. <br><br>\n",
    "\n",
    "    * **(2)** Évaluer le modèle à l'aide de la méthode `score` sur les données de test. \n",
    "\n",
    "\n",
    "\n",
    "\n"
   ]
  },
  {
   "cell_type": "code",
   "execution_count": 34,
   "metadata": {},
   "outputs": [
    {
     "name": "stdout",
     "output_type": "stream",
     "text": [
      "score train :  1.0\n",
      "score test :  0.7467532467532467\n"
     ]
    }
   ],
   "source": [
    "# Insérez votre code ici\n",
    "\n",
    "\n",
    "print(\"score train : \" , dt_clf.score(X_train, y_train))\n",
    "\n",
    "print(\"score test : \", dt_clf.score(X_test,y_test))"
   ]
  },
  {
   "cell_type": "code",
   "execution_count": null,
   "metadata": {
    "deletable": false,
    "editable": false,
    "function": "solution"
   },
   "outputs": [],
   "source": [
    "print(\"score train : \" , dt_clf.score(X_train, y_train))\n",
    "\n",
    "print(\"score test : \", dt_clf.score(X_test,y_test))\n",
    "\n"
   ]
  },
  {
   "cell_type": "markdown",
   "metadata": {
    "deletable": false,
    "editable": false,
    "run_control": {
     "frozen": true
    }
   },
   "source": [
    "\n",
    "\n",
    "> <div class=\"alert alert-danger\">\n",
    "  <i class=\"fa fa-info-circle\"></i> &emsp; Vous pouvez remarquer que le score entre le jeu d'entrainement et le jeu de test baisse. On appelle cela de l’overfitting. On peut détecter l'overfitting en comparant les scores du modèle sur le jeu d'entraînement et le jeu de test.\n",
    "   </div>\n",
    ">\n",
    "> La méthode `score` est une métrique qui va comparer les résultats de prédictions de votre jeu de données X par rapport à y. **En classification**, le score correspond à l'**accuracy** : **c'est le taux de prédictions correctes effectuées par le modèle**.\n",
    ">\n",
    "> Voici un exemple pour bien comprendre le calcul : \n",
    ">\n",
    "> <img src=\"https://assets-datascientest.s3.eu-west-1.amazonaws.com/notebooks/module_da_121/notebook_api_scikit_learn/accuracy.png\" style = 'height:250px'>\n",
    ">\n",
    "> Nous venons de voir un exemple de classification. Passons maintenant à la régression. \n",
    "\n",
    "### 3. Régression \n",
    "\n",
    ">#### 3.1 Rappel \n",
    ">En **Machine Learning**, l'objectif est de prédire la valeur d'une variable cible à partir de variables explicatives.\n",
    ">Dans un problème de régression, la variable cible prend des valeurs continues. Ces valeurs sont numériques : prix d'une maison, quantité d'oxygène dans l'air d'une ville, etc. La variable cible peut donc prendre une **infinité de valeurs**.\n",
    ">\n",
    ">\n",
    "> <img src=\"https://assets-datascientest.s3.eu-west-1.amazonaws.com/notebooks/module_da_121/notebook_api_scikit_learn/regression.png\" style = 'height:350px'>\n",
    ">\n",
    ">#### 3.2 Mise en pratique\n",
    ">\n",
    ">L'exercice suivant porte sur un jeu de données sur les caractéristiques de différentes voitures avec le prix pour chacune. \n",
    ">\n",
    ">Voici le descriptif des données : \n",
    "> \n",
    "> |Variable | Description|\n",
    "> |----------|------------|\n",
    "> |`'symboling'`|\"Sureté de la voiture\" : +3 : l'automobile est risquée, -3 : assez sûre.|\n",
    "> |`'wheelbase'`|  Espace entre les roues                   |\n",
    "> |`'carlength'`| Longueur de la voiture|\n",
    "> |`'carwidth'`| Largeur de la voiture|\n",
    "> |`'carheight'`| Hauteur de la voiture|\n",
    "> |`'curbweight`| Poids à vide |\n",
    "> |`'enginesize'`| Taille du moteur |\n",
    "> |`'stroke'`| Cycle de combustion |\n",
    "> |`'compressionratio'`| Taux de compression|\n",
    "> |`'horsepower'` | Puissance des chevaux |\n",
    "> |`'price'`| Prix de la voiture|\n",
    ">\n",
    "> L'objectif de cette régression va donc être de **prédire le prix d'une voiture en fonction de certaines caractéristiques**.\n",
    "\n",
    "* **(a)** \n",
    "\n",
    "    * **(1)** Lire le fichier **`'carPrice.csv'`** dans un **`DataFrame`** appelé **`df_reg`** en précisant que la première colonne contient les **`index`**. <br><br>\n",
    "    * **(2)** Afficher les cinq premières lignes du **`DataFrame`** **`df_reg`**.\n",
    "\n",
    "\n",
    "\n"
   ]
  },
  {
   "cell_type": "code",
   "execution_count": 36,
   "metadata": {},
   "outputs": [
    {
     "name": "stdout",
     "output_type": "stream",
     "text": [
      "(205, 11)\n"
     ]
    },
    {
     "data": {
      "text/html": [
       "<div>\n",
       "<style scoped>\n",
       "    .dataframe tbody tr th:only-of-type {\n",
       "        vertical-align: middle;\n",
       "    }\n",
       "\n",
       "    .dataframe tbody tr th {\n",
       "        vertical-align: top;\n",
       "    }\n",
       "\n",
       "    .dataframe thead th {\n",
       "        text-align: right;\n",
       "    }\n",
       "</style>\n",
       "<table border=\"1\" class=\"dataframe\">\n",
       "  <thead>\n",
       "    <tr style=\"text-align: right;\">\n",
       "      <th></th>\n",
       "      <th>symboling</th>\n",
       "      <th>wheelbase</th>\n",
       "      <th>carlength</th>\n",
       "      <th>carwidth</th>\n",
       "      <th>carheight</th>\n",
       "      <th>curbweight</th>\n",
       "      <th>enginesize</th>\n",
       "      <th>stroke</th>\n",
       "      <th>compressionratio</th>\n",
       "      <th>horsepower</th>\n",
       "      <th>price</th>\n",
       "    </tr>\n",
       "    <tr>\n",
       "      <th>car_ID</th>\n",
       "      <th></th>\n",
       "      <th></th>\n",
       "      <th></th>\n",
       "      <th></th>\n",
       "      <th></th>\n",
       "      <th></th>\n",
       "      <th></th>\n",
       "      <th></th>\n",
       "      <th></th>\n",
       "      <th></th>\n",
       "      <th></th>\n",
       "    </tr>\n",
       "  </thead>\n",
       "  <tbody>\n",
       "    <tr>\n",
       "      <th>1</th>\n",
       "      <td>3</td>\n",
       "      <td>88.6</td>\n",
       "      <td>168.8</td>\n",
       "      <td>64.1</td>\n",
       "      <td>48.8</td>\n",
       "      <td>2548</td>\n",
       "      <td>130</td>\n",
       "      <td>2.68</td>\n",
       "      <td>9.0</td>\n",
       "      <td>111</td>\n",
       "      <td>13495.0</td>\n",
       "    </tr>\n",
       "    <tr>\n",
       "      <th>2</th>\n",
       "      <td>3</td>\n",
       "      <td>88.6</td>\n",
       "      <td>168.8</td>\n",
       "      <td>64.1</td>\n",
       "      <td>48.8</td>\n",
       "      <td>2548</td>\n",
       "      <td>130</td>\n",
       "      <td>2.68</td>\n",
       "      <td>9.0</td>\n",
       "      <td>111</td>\n",
       "      <td>16500.0</td>\n",
       "    </tr>\n",
       "    <tr>\n",
       "      <th>3</th>\n",
       "      <td>1</td>\n",
       "      <td>94.5</td>\n",
       "      <td>171.2</td>\n",
       "      <td>65.5</td>\n",
       "      <td>52.4</td>\n",
       "      <td>2823</td>\n",
       "      <td>152</td>\n",
       "      <td>3.47</td>\n",
       "      <td>9.0</td>\n",
       "      <td>154</td>\n",
       "      <td>16500.0</td>\n",
       "    </tr>\n",
       "    <tr>\n",
       "      <th>4</th>\n",
       "      <td>2</td>\n",
       "      <td>99.8</td>\n",
       "      <td>176.6</td>\n",
       "      <td>66.2</td>\n",
       "      <td>54.3</td>\n",
       "      <td>2337</td>\n",
       "      <td>109</td>\n",
       "      <td>3.40</td>\n",
       "      <td>10.0</td>\n",
       "      <td>102</td>\n",
       "      <td>13950.0</td>\n",
       "    </tr>\n",
       "    <tr>\n",
       "      <th>5</th>\n",
       "      <td>2</td>\n",
       "      <td>99.4</td>\n",
       "      <td>176.6</td>\n",
       "      <td>66.4</td>\n",
       "      <td>54.3</td>\n",
       "      <td>2824</td>\n",
       "      <td>136</td>\n",
       "      <td>3.40</td>\n",
       "      <td>8.0</td>\n",
       "      <td>115</td>\n",
       "      <td>17450.0</td>\n",
       "    </tr>\n",
       "  </tbody>\n",
       "</table>\n",
       "</div>"
      ],
      "text/plain": [
       "        symboling  wheelbase  carlength  carwidth  carheight  curbweight  \\\n",
       "car_ID                                                                     \n",
       "1               3       88.6      168.8      64.1       48.8        2548   \n",
       "2               3       88.6      168.8      64.1       48.8        2548   \n",
       "3               1       94.5      171.2      65.5       52.4        2823   \n",
       "4               2       99.8      176.6      66.2       54.3        2337   \n",
       "5               2       99.4      176.6      66.4       54.3        2824   \n",
       "\n",
       "        enginesize  stroke  compressionratio  horsepower    price  \n",
       "car_ID                                                             \n",
       "1              130    2.68               9.0         111  13495.0  \n",
       "2              130    2.68               9.0         111  16500.0  \n",
       "3              152    3.47               9.0         154  16500.0  \n",
       "4              109    3.40              10.0         102  13950.0  \n",
       "5              136    3.40               8.0         115  17450.0  "
      ]
     },
     "execution_count": 36,
     "metadata": {},
     "output_type": "execute_result"
    }
   ],
   "source": [
    "# Insérez votre code ici\n",
    "\n",
    "\n",
    "\n",
    "df_reg = pd.read_csv('carPrice.csv', index_col = 0)\n",
    "print(df_reg.shape)\n",
    "df_reg.head()"
   ]
  },
  {
   "cell_type": "code",
   "execution_count": null,
   "metadata": {
    "deletable": false,
    "editable": false,
    "function": "solution"
   },
   "outputs": [],
   "source": [
    "df_reg = pd.read_csv('carPrice.csv', index_col = 0)\n",
    "\n",
    "df_reg.head()\n",
    "\n"
   ]
  },
  {
   "cell_type": "markdown",
   "metadata": {
    "deletable": false,
    "editable": false,
    "run_control": {
     "frozen": true
    }
   },
   "source": [
    "\n",
    "\n",
    "* **(b)** Afficher les informations du **`DataFrame`** **`df_reg`**.\n",
    "\n",
    "\n",
    "\n"
   ]
  },
  {
   "cell_type": "code",
   "execution_count": 37,
   "metadata": {},
   "outputs": [
    {
     "name": "stdout",
     "output_type": "stream",
     "text": [
      "<class 'pandas.core.frame.DataFrame'>\n",
      "Int64Index: 205 entries, 1 to 205\n",
      "Data columns (total 11 columns):\n",
      " #   Column            Non-Null Count  Dtype  \n",
      "---  ------            --------------  -----  \n",
      " 0   symboling         205 non-null    int64  \n",
      " 1   wheelbase         205 non-null    float64\n",
      " 2   carlength         205 non-null    float64\n",
      " 3   carwidth          205 non-null    float64\n",
      " 4   carheight         205 non-null    float64\n",
      " 5   curbweight        205 non-null    int64  \n",
      " 6   enginesize        205 non-null    int64  \n",
      " 7   stroke            205 non-null    float64\n",
      " 8   compressionratio  205 non-null    float64\n",
      " 9   horsepower        205 non-null    int64  \n",
      " 10  price             205 non-null    float64\n",
      "dtypes: float64(7), int64(4)\n",
      "memory usage: 19.2 KB\n"
     ]
    }
   ],
   "source": [
    "# Insérez votre code ici\n",
    "\n",
    "df_reg.info()"
   ]
  },
  {
   "cell_type": "code",
   "execution_count": null,
   "metadata": {
    "deletable": false,
    "editable": false,
    "function": "solution"
   },
   "outputs": [],
   "source": [
    "df_reg.info()\n",
    "\n"
   ]
  },
  {
   "cell_type": "markdown",
   "metadata": {
    "deletable": false,
    "editable": false,
    "run_control": {
     "frozen": true
    }
   },
   "source": [
    "\n",
    "\n",
    ">Le dataset est très propre : il n'y a pas de valeurs manquantes et les types sont bons. La prochaine étape va être d'identifier la variable cible et les variables explicatives. \n",
    ">Ici la variable cible est : **`price`** qui prend un nombre infini de valeurs : on est bien dans un problème de **régression**.\n",
    "\n",
    "* **(c)** \n",
    "\n",
    "    * **(1)** Dans un `DataFrame` nommé **`X`**, stocker les variables explicatives du jeu de données (toutes sauf la colonne **`price`**).<br><br>\n",
    "    * **(2)** Dans un `DataFrame` nommé **`y`**, stocker la variable cible **`price`**. \n",
    "\n",
    "\n",
    "\n",
    "\n"
   ]
  },
  {
   "cell_type": "code",
   "execution_count": 39,
   "metadata": {},
   "outputs": [
    {
     "data": {
      "text/html": [
       "<div>\n",
       "<style scoped>\n",
       "    .dataframe tbody tr th:only-of-type {\n",
       "        vertical-align: middle;\n",
       "    }\n",
       "\n",
       "    .dataframe tbody tr th {\n",
       "        vertical-align: top;\n",
       "    }\n",
       "\n",
       "    .dataframe thead th {\n",
       "        text-align: right;\n",
       "    }\n",
       "</style>\n",
       "<table border=\"1\" class=\"dataframe\">\n",
       "  <thead>\n",
       "    <tr style=\"text-align: right;\">\n",
       "      <th></th>\n",
       "      <th>symboling</th>\n",
       "      <th>wheelbase</th>\n",
       "      <th>carlength</th>\n",
       "      <th>carwidth</th>\n",
       "      <th>carheight</th>\n",
       "      <th>curbweight</th>\n",
       "      <th>enginesize</th>\n",
       "      <th>stroke</th>\n",
       "      <th>compressionratio</th>\n",
       "      <th>horsepower</th>\n",
       "    </tr>\n",
       "    <tr>\n",
       "      <th>car_ID</th>\n",
       "      <th></th>\n",
       "      <th></th>\n",
       "      <th></th>\n",
       "      <th></th>\n",
       "      <th></th>\n",
       "      <th></th>\n",
       "      <th></th>\n",
       "      <th></th>\n",
       "      <th></th>\n",
       "      <th></th>\n",
       "    </tr>\n",
       "  </thead>\n",
       "  <tbody>\n",
       "    <tr>\n",
       "      <th>1</th>\n",
       "      <td>3</td>\n",
       "      <td>88.6</td>\n",
       "      <td>168.8</td>\n",
       "      <td>64.1</td>\n",
       "      <td>48.8</td>\n",
       "      <td>2548</td>\n",
       "      <td>130</td>\n",
       "      <td>2.68</td>\n",
       "      <td>9.0</td>\n",
       "      <td>111</td>\n",
       "    </tr>\n",
       "    <tr>\n",
       "      <th>2</th>\n",
       "      <td>3</td>\n",
       "      <td>88.6</td>\n",
       "      <td>168.8</td>\n",
       "      <td>64.1</td>\n",
       "      <td>48.8</td>\n",
       "      <td>2548</td>\n",
       "      <td>130</td>\n",
       "      <td>2.68</td>\n",
       "      <td>9.0</td>\n",
       "      <td>111</td>\n",
       "    </tr>\n",
       "    <tr>\n",
       "      <th>3</th>\n",
       "      <td>1</td>\n",
       "      <td>94.5</td>\n",
       "      <td>171.2</td>\n",
       "      <td>65.5</td>\n",
       "      <td>52.4</td>\n",
       "      <td>2823</td>\n",
       "      <td>152</td>\n",
       "      <td>3.47</td>\n",
       "      <td>9.0</td>\n",
       "      <td>154</td>\n",
       "    </tr>\n",
       "    <tr>\n",
       "      <th>4</th>\n",
       "      <td>2</td>\n",
       "      <td>99.8</td>\n",
       "      <td>176.6</td>\n",
       "      <td>66.2</td>\n",
       "      <td>54.3</td>\n",
       "      <td>2337</td>\n",
       "      <td>109</td>\n",
       "      <td>3.40</td>\n",
       "      <td>10.0</td>\n",
       "      <td>102</td>\n",
       "    </tr>\n",
       "    <tr>\n",
       "      <th>5</th>\n",
       "      <td>2</td>\n",
       "      <td>99.4</td>\n",
       "      <td>176.6</td>\n",
       "      <td>66.4</td>\n",
       "      <td>54.3</td>\n",
       "      <td>2824</td>\n",
       "      <td>136</td>\n",
       "      <td>3.40</td>\n",
       "      <td>8.0</td>\n",
       "      <td>115</td>\n",
       "    </tr>\n",
       "  </tbody>\n",
       "</table>\n",
       "</div>"
      ],
      "text/plain": [
       "        symboling  wheelbase  carlength  carwidth  carheight  curbweight  \\\n",
       "car_ID                                                                     \n",
       "1               3       88.6      168.8      64.1       48.8        2548   \n",
       "2               3       88.6      168.8      64.1       48.8        2548   \n",
       "3               1       94.5      171.2      65.5       52.4        2823   \n",
       "4               2       99.8      176.6      66.2       54.3        2337   \n",
       "5               2       99.4      176.6      66.4       54.3        2824   \n",
       "\n",
       "        enginesize  stroke  compressionratio  horsepower  \n",
       "car_ID                                                    \n",
       "1              130    2.68               9.0         111  \n",
       "2              130    2.68               9.0         111  \n",
       "3              152    3.47               9.0         154  \n",
       "4              109    3.40              10.0         102  \n",
       "5              136    3.40               8.0         115  "
      ]
     },
     "metadata": {},
     "output_type": "display_data"
    },
    {
     "name": "stdout",
     "output_type": "stream",
     "text": [
      "\n",
      "\n"
     ]
    },
    {
     "data": {
      "text/plain": [
       "car_ID\n",
       "1    13495.0\n",
       "2    16500.0\n",
       "3    16500.0\n",
       "4    13950.0\n",
       "5    17450.0\n",
       "Name: price, dtype: float64"
      ]
     },
     "metadata": {},
     "output_type": "display_data"
    }
   ],
   "source": [
    "# Insérez votre code ici\n",
    "\n",
    "X = df_reg.drop('price', axis = 1)\n",
    "\n",
    "y = df_reg['price']\n",
    "\n",
    "display(X.head(5))\n",
    "print(\"\\n\")\n",
    "display(y.head(5))"
   ]
  },
  {
   "cell_type": "code",
   "execution_count": null,
   "metadata": {
    "deletable": false,
    "editable": false,
    "function": "solution"
   },
   "outputs": [],
   "source": [
    "X = df_reg.drop('price', axis = 1)\n",
    "\n",
    "y = df_reg['price']\n",
    "\n"
   ]
  },
  {
   "cell_type": "markdown",
   "metadata": {
    "deletable": false,
    "editable": false,
    "run_control": {
     "frozen": true
    }
   },
   "source": [
    "\n",
    "\n",
    "* **(d)** Séparer les données en un jeu d'entrainement (**`X_train`**, **`y_train`**) et un jeu de test (**`X_test`**, **`y_test`**) en gardant 20% des données pour l'échantillon de test. \n",
    "\n",
    "\n",
    "\n"
   ]
  },
  {
   "cell_type": "code",
   "execution_count": 40,
   "metadata": {},
   "outputs": [
    {
     "name": "stdout",
     "output_type": "stream",
     "text": [
      "*----------Data Shape---------------*\n",
      "\n",
      "X_train Shape :(164, 10)\n",
      "y_train Shape :(164,)\n",
      "\n",
      "\n",
      "X_Test Shape :(41, 10)\n",
      "y_test Shape :(41,)\n"
     ]
    }
   ],
   "source": [
    "# Insérez votre code ici\n",
    "\n",
    "X_train, X_test,y_train, y_test = train_test_split(X, y , test_size = 0.2)\n",
    "\n",
    "\n",
    "print(\"*----------Data Shape---------------*\\n\")\n",
    "print(f'X_train Shape :{X_train.shape}')\n",
    "print(f'y_train Shape :{y_train.shape}')\n",
    "print(\"\\n\")\n",
    "print(f'X_Test Shape :{X_test.shape}')\n",
    "print(f'y_test Shape :{y_test.shape}')"
   ]
  },
  {
   "cell_type": "code",
   "execution_count": null,
   "metadata": {
    "deletable": false,
    "editable": false,
    "function": "solution"
   },
   "outputs": [],
   "source": [
    "X_train, X_test,y_train, y_test = train_test_split(X, y , test_size = 0.2)\n",
    "\n",
    "\n"
   ]
  },
  {
   "cell_type": "markdown",
   "metadata": {
    "deletable": false,
    "editable": false,
    "run_control": {
     "frozen": true
    }
   },
   "source": [
    "\n",
    "\n",
    "> Comme pour la partie **classification**, nous pouvons maintenant passer à la partie **modélisation**. Pour rappel nous cherchons à prédire le prix d'une voiture en fonction de différentes caractéristiques. \n",
    ">\n",
    ">Pour cela, nous allons entraîner un **arbre de régression** : c'est un algorithme simple qui ne nécessite aucun pré-traitement sur le jeu de données. Vous verrez plus en profondeur son fonctionnement dans le prochain notebook, gardez seulement à l'idée que : **l' arbre de régression est un algorithme de Machine Learning pour entraîner un modèle de régression disponible sur Scikit Learn.** \n",
    "\n",
    "* **(e)** Charger la fonction **`DecisionTreeRegressor`** à partir du sous-module **`sklearn.tree`**.\n",
    "\n",
    "\n",
    "\n",
    "\n"
   ]
  },
  {
   "cell_type": "code",
   "execution_count": 41,
   "metadata": {},
   "outputs": [],
   "source": [
    "# Insérez votre code ici\n",
    "\n",
    "\n",
    "\n",
    "from sklearn.tree import DecisionTreeRegressor"
   ]
  },
  {
   "cell_type": "code",
   "execution_count": null,
   "metadata": {
    "deletable": false,
    "editable": false,
    "function": "solution"
   },
   "outputs": [],
   "source": [
    "from sklearn.tree import DecisionTreeRegressor\n",
    "\n"
   ]
  },
  {
   "cell_type": "markdown",
   "metadata": {
    "deletable": false,
    "editable": false,
    "run_control": {
     "frozen": true
    }
   },
   "source": [
    "\n",
    "\n",
    "> Comme pour la classificaton, pour entrainer un algorithme de **Machine Learning**, cela se fera toujours de la même manière. \n",
    "\n",
    "* **(f)**\n",
    "\n",
    "    * **(1)** Instancier un modèle **`DecisionTreeRegressor`** appelée **`dt_reg`** avec l'argument **`random_state=42`** . <br><br>\n",
    "    * **(2)** Entrainer le modèle sur le jeu de données d'entrainement grâce à la méthode **`fit`** de la classe **`DecisionTreeRegressor`**.\n",
    "\n",
    "\n",
    "\n"
   ]
  },
  {
   "cell_type": "code",
   "execution_count": 42,
   "metadata": {},
   "outputs": [
    {
     "data": {
      "text/plain": [
       "DecisionTreeRegressor(random_state=42)"
      ]
     },
     "execution_count": 42,
     "metadata": {},
     "output_type": "execute_result"
    }
   ],
   "source": [
    "#Instanciation du modele\n",
    "dt_reg = DecisionTreeRegressor(random_state=42)\n",
    "\n",
    "#Entrainement du modele \n",
    "dt_reg.fit(X_train, y_train)"
   ]
  },
  {
   "cell_type": "code",
   "execution_count": null,
   "metadata": {
    "deletable": false,
    "editable": false,
    "function": "solution"
   },
   "outputs": [],
   "source": [
    "#Instanciation du modele\n",
    "dt_reg = DecisionTreeRegressor(random_state=42)\n",
    "\n",
    "#Entrainement du modele \n",
    "dt_reg.fit(X_train, y_train)\n",
    "\n"
   ]
  },
  {
   "cell_type": "markdown",
   "metadata": {
    "deletable": false,
    "editable": false,
    "run_control": {
     "frozen": true
    }
   },
   "source": [
    "\n",
    "\n",
    "* **(g)**\n",
    "    * (1) Effectuer une prédiction sur les données de test et stocker ces prédictions dans **`y_pred_test`**.<br><br>\n",
    "    * (2) Afficher les 5 premières prédictions. \n",
    "\n",
    "\n",
    "\n"
   ]
  },
  {
   "cell_type": "code",
   "execution_count": 43,
   "metadata": {},
   "outputs": [
    {
     "name": "stdout",
     "output_type": "stream",
     "text": [
      "[ 9989. 18399.  7788. 10245. 15998.]\n"
     ]
    }
   ],
   "source": [
    "# Insérez votre code ici\n",
    "\n",
    "\n",
    "\n",
    "#Prediction sur les donnees de test \n",
    "y_pred_test = dt_reg.predict(X_test)\n",
    "\n",
    "print(y_pred_test[:5])"
   ]
  },
  {
   "cell_type": "code",
   "execution_count": null,
   "metadata": {
    "deletable": false,
    "editable": false,
    "function": "solution"
   },
   "outputs": [],
   "source": [
    "#Prediction sur les donnees de test \n",
    "y_pred_test = dt_reg.predict(X_test)\n",
    "\n",
    "print(y_pred_test[:5])\n",
    "\n"
   ]
  },
  {
   "cell_type": "markdown",
   "metadata": {
    "deletable": false,
    "editable": false,
    "run_control": {
     "frozen": true
    }
   },
   "source": [
    "\n",
    "\n",
    "\n",
    "* **(h)** Afficher les 5 premières lignes de `y_test` et les comparer à `y_pred_test`.\n",
    "\n",
    "\n",
    "\n"
   ]
  },
  {
   "cell_type": "code",
   "execution_count": 45,
   "metadata": {},
   "outputs": [
    {
     "data": {
      "text/plain": [
       "car_ID\n",
       "131     9295.000\n",
       "105    17199.000\n",
       "159     7898.000\n",
       "177    10898.000\n",
       "10     17859.167\n",
       "Name: price, dtype: float64"
      ]
     },
     "metadata": {},
     "output_type": "display_data"
    },
    {
     "data": {
      "text/plain": [
       "car_ID\n",
       "131    -694.000\n",
       "105   -1200.000\n",
       "159     110.000\n",
       "177     653.000\n",
       "10     1861.167\n",
       "Name: price, dtype: float64"
      ]
     },
     "metadata": {},
     "output_type": "display_data"
    }
   ],
   "source": [
    "# Insérez votre code ici\n",
    "\n",
    "\n",
    "display(y_test[:5])\n",
    "\n",
    "#Comparaison entre y_test et y_pred_test : on mesure l'ecart entre ce qu'a predit l'algorithme et le resultat\n",
    "\n",
    "display(y_test[:5] - y_pred_test[:5])"
   ]
  },
  {
   "cell_type": "code",
   "execution_count": null,
   "metadata": {
    "deletable": false,
    "editable": false,
    "function": "solution"
   },
   "outputs": [],
   "source": [
    "print(y_test[:5])\n",
    "\n",
    "#Comparaison entre y_test et y_pred_test : on mesure l'ecart entre ce qu'a predit l'algorithme et le resultat\n",
    "\n",
    "print(y_test[:5] - y_pred_test[:5])\n",
    "\n"
   ]
  },
  {
   "cell_type": "markdown",
   "metadata": {
    "deletable": false,
    "editable": false,
    "run_control": {
     "frozen": true
    }
   },
   "source": [
    "\n",
    "\n",
    "* **(i)**\n",
    "\n",
    "    * (1) Évaluer le modèle à l'aide de la méthode `score` sur les données d'entraînement. <br><br>\n",
    "\n",
    "    * (2) Évaluer le modèle à l'aide de la méthode `score` sur les données de test.  \n",
    "\n",
    "\n",
    "\n"
   ]
  },
  {
   "cell_type": "code",
   "execution_count": 46,
   "metadata": {},
   "outputs": [
    {
     "name": "stdout",
     "output_type": "stream",
     "text": [
      "score train :  0.998750440729174\n",
      "score test :  0.8772366485539893\n"
     ]
    }
   ],
   "source": [
    "print(\"score train : \" , dt_reg.score(X_train, y_train))\n",
    "\n",
    "print(\"score test : \", dt_reg.score(X_test,y_test))"
   ]
  },
  {
   "cell_type": "code",
   "execution_count": null,
   "metadata": {
    "deletable": false,
    "editable": false,
    "function": "solution"
   },
   "outputs": [],
   "source": [
    "print(\"score train : \" , dt_reg.score(X_train, y_train))\n",
    "\n",
    "print(\"score test : \", dt_reg.score(X_test,y_test))\n",
    "\n"
   ]
  },
  {
   "cell_type": "markdown",
   "metadata": {
    "deletable": false,
    "editable": false,
    "run_control": {
     "frozen": true
    }
   },
   "source": [
    "\n",
    "\n",
    "> La méthode **`score`**, comme pour la classification est une métrique qui va comparer les résultats de prédictions de votre jeu de données X  par rapport à y. La différence est qu'en régression, le **score** correspond au coefficient de détermination :\n",
    ">\n",
    ">$$ R^{2} = 1 - \\frac{\\sum\\limits_{i=1}^n (\\hat{y_{i}} - y_{i})^{2}}{\\sum\\limits_{i=1}^n ({y_{i}} - \\bar{y_{i}})^{2}} $$\n",
    "> avec : \n",
    ">* $y_{i}$ notre variable cible.<br><br>\n",
    ">* $\\hat{y_{i}}$ les prédictions de la variable cible.<br><br>\n",
    ">* $ \\bar{y_{i}}$ la moyenne de la variable cible.\n",
    ">\n",
    ">\n",
    ">**Comment interpréter ce coefficient ?** \n",
    ">\n",
    ">Plus il se rapproche de 0, plus le nuage de points **se disperse autour de la droite de régression**. Au contraire, plus il se rapproche de 1, plus le nuage de points se **resserre autour de la droite de régression**. Ainsi, plus il est proche de 1, plus vos données seront bien prédites.\n",
    "\n",
    "### 4. Conclusion \n",
    "\n",
    "> #### 4.1 A retenir \n",
    ">Dans ce cours, vous avez été introduit à la résolution d'un problème de régression et de classification grâce au **Machine Learning**.\n",
    ">\n",
    ">Nous avons utilisé la bibliothèque `Scikit-learn` pour instancier : \n",
    ">* Un modèle de classification. <br><br>\n",
    ">* Un modèle de régression.  \n",
    ">\n",
    ">Les différentes étapes que nous avons étudiées sont la base de toute résolution d'un problème de **Machine Learning** :\n",
    ">\n",
    ">>* On prépare les données en séparant les variables explicatives de la variable cible.<br><br>\n",
    ">>* On sépare le jeu de données en deux (un jeu d'entraînement et un jeu de test) à l'aide de la fonction `train_test_split` du sous-module `sklearn.model_selection`.<br><br>\n",
    ">>* On instancie un modèle comme `DecisionTreeClassifier` ou `DecisionRegressor` grâce au constructeur de la classe.<br><br>\n",
    ">>* On entraîne le modèle sur le jeu de données d'entraînement à l'aide de la méthode `fit`.<br><br>\n",
    ">>* On effectue une prédiction sur les données de test grâce à la méthode `predict`.<br><br>\n",
    ">>* On évalue les performances de notre prédiction grâce à la méthode `score`.<br><br>\n",
    ">\n",
    "> #### 4.2 Et après ?\n",
    ">\n",
    "> Nous allons voir dans le prochain notebook comment fonctionne les modèles de Machine Learning à savoir : les **modèles linéaires** et les **modèles d'arbres**. \n",
    "\n",
    "\n",
    "\n"
   ]
  }
 ],
 "metadata": {
  "kernelspec": {
   "display_name": "Python 3",
   "language": "python",
   "name": "python3"
  },
  "language_info": {
   "codemirror_mode": {
    "name": "ipython",
    "version": 3
   },
   "file_extension": ".py",
   "mimetype": "text/x-python",
   "name": "python",
   "nbconvert_exporter": "python",
   "pygments_lexer": "ipython3",
   "version": "3.9.13"
  },
  "latex_envs": {
   "LaTeX_envs_menu_present": true,
   "autoclose": false,
   "autocomplete": true,
   "bibliofile": "biblio.bib",
   "cite_by": "apalike",
   "current_citInitial": 1,
   "eqLabelWithNumbers": true,
   "eqNumInitial": 1,
   "hotkeys": {
    "equation": "Ctrl-E",
    "itemize": "Ctrl-I"
   },
   "labels_anchors": false,
   "latex_user_defs": false,
   "report_style_numbering": false,
   "user_envs_cfg": false
  },
  "owner": "DataScientest"
 },
 "nbformat": 4,
 "nbformat_minor": 2
}
